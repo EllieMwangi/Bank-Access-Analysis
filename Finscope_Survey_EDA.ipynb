{
  "nbformat": 4,
  "nbformat_minor": 0,
  "metadata": {
    "colab": {
      "name": "Finscope Survey EDA.ipynb",
      "provenance": [],
      "collapsed_sections": [],
      "authorship_tag": "ABX9TyOhNKtyBvdAuC4oXvaaANBZ",
      "include_colab_link": true
    },
    "kernelspec": {
      "name": "python3",
      "display_name": "Python 3"
    }
  },
  "cells": [
    {
      "cell_type": "markdown",
      "metadata": {
        "id": "view-in-github",
        "colab_type": "text"
      },
      "source": [
        "<a href=\"https://colab.research.google.com/github/EllieMwangi/Finscope-survey-data-EDA/blob/master/Finscope_Survey_EDA.ipynb\" target=\"_parent\"><img src=\"https://colab.research.google.com/assets/colab-badge.svg\" alt=\"Open In Colab\"/></a>"
      ]
    },
    {
      "cell_type": "markdown",
      "metadata": {
        "id": "HOiXIWEWXX7B",
        "colab_type": "text"
      },
      "source": [
        "## Exploratory Data Analysis of Finscope Survey Data\n"
      ]
    },
    {
      "cell_type": "markdown",
      "metadata": {
        "id": "4YzXl090YAZM",
        "colab_type": "text"
      },
      "source": [
        "### 1. Defining the Question"
      ]
    },
    {
      "cell_type": "markdown",
      "metadata": {
        "id": "HeKe8jBKYMyr",
        "colab_type": "text"
      },
      "source": [
        "#### a) Specifying the data analysis question\n",
        "\n",
        "- Determine the state of financial inclusion in selected countries based on number of individuals with bank accounts\n",
        "- Identify key demographic factors that influence whether an individual has a bank account or not."
      ]
    },
    {
      "cell_type": "markdown",
      "metadata": {
        "id": "8kwSycLaZSFl",
        "colab_type": "text"
      },
      "source": [
        "#### b) Metrics of Success\n",
        "Can successfully identify demographic variables that influence if an individual has a bank account or not."
      ]
    },
    {
      "cell_type": "markdown",
      "metadata": {
        "id": "Ppv2oNArZv__",
        "colab_type": "text"
      },
      "source": [
        "#### c) Context\n",
        "Financial Inclusion remains one of the main obstacles to economic and human development in Africa. For example, across Kenya, Rwanda, Tanzania, and Uganda only 9.1 million adults (or 13.9% of the adult population) have access to or use a commercial bank account.\n",
        "\n",
        "Traditionally, access to bank accounts has been regarded as an indicator of financial inclusion. Despite the proliferation of mobile money in Africa and the growth of innovative fintech solutions, banks still play a pivotal role in facilitating access to financial services. Access to bank accounts enables households to save and facilitate payments while also helping businesses build up their credit-worthiness and improve their access to other financial services. Therefore, access to bank accounts is an essential contributor to long-term economic growth.\n"
      ]
    },
    {
      "cell_type": "markdown",
      "metadata": {
        "id": "C5k-_dsbamQ_",
        "colab_type": "text"
      },
      "source": [
        "#### d) Recording Experimental Design\n",
        "- Define research question\n",
        "- Data Exploration\n",
        "- Univariate analysis\n",
        "- Bivariate Analysis\n",
        "- Multivariate Analysis\n",
        "- Summary of Findings\n",
        "- Challenging the solution"
      ]
    },
    {
      "cell_type": "markdown",
      "metadata": {
        "id": "M_Q7PWeac5Cy",
        "colab_type": "text"
      },
      "source": [
        "#### e) Relevance of the data\n",
        "The data used for analysis contains demographic information and what financial services are used by individuals across East Africa. This data was extracted from various Finscope surveys ranging from 2016 to 2018 and is relevant for analysis."
      ]
    },
    {
      "cell_type": "markdown",
      "metadata": {
        "id": "v6kzZFRuYG8o",
        "colab_type": "text"
      },
      "source": [
        "### Data Exploration"
      ]
    },
    {
      "cell_type": "code",
      "metadata": {
        "id": "g3AD2EoLXpOf",
        "colab_type": "code",
        "colab": {
          "base_uri": "https://localhost:8080/",
          "height": 72
        },
        "outputId": "d704234f-7969-4849-88c0-a03d0f3ceea9"
      },
      "source": [
        "# Import libraries\n",
        "import pandas as pd\n",
        "import numpy as np\n",
        "import matplotlib.pyplot as plt\n",
        "import seaborn as sns"
      ],
      "execution_count": 1,
      "outputs": [
        {
          "output_type": "stream",
          "text": [
            "/usr/local/lib/python3.6/dist-packages/statsmodels/tools/_testing.py:19: FutureWarning: pandas.util.testing is deprecated. Use the functions in the public API at pandas.testing instead.\n",
            "  import pandas.util.testing as tm\n"
          ],
          "name": "stderr"
        }
      ]
    },
    {
      "cell_type": "code",
      "metadata": {
        "id": "8fAFlHd5Yn3G",
        "colab_type": "code",
        "colab": {}
      },
      "source": [
        "# Set global parameters\n",
        "sns.set()\n",
        "plt.rcParams['figure.figsize'] = (10.0,8.0) \n",
        "\n",
        "%matplotlib inline"
      ],
      "execution_count": 2,
      "outputs": []
    },
    {
      "cell_type": "code",
      "metadata": {
        "id": "ULgpJdgsZOPx",
        "colab_type": "code",
        "colab": {}
      },
      "source": [
        "# Load dataset\n",
        "finance_df = pd.read_csv('finacial_data.csv')"
      ],
      "execution_count": 3,
      "outputs": []
    },
    {
      "cell_type": "code",
      "metadata": {
        "id": "6nyieHOoaJA5",
        "colab_type": "code",
        "colab": {
          "base_uri": "https://localhost:8080/",
          "height": 314
        },
        "outputId": "b55fc6bb-f0b2-4ed2-d6f3-4430c174a1a2"
      },
      "source": [
        "# Preview dataset\n",
        "finance_df.head()"
      ],
      "execution_count": 4,
      "outputs": [
        {
          "output_type": "execute_result",
          "data": {
            "text/html": [
              "<div>\n",
              "<style scoped>\n",
              "    .dataframe tbody tr th:only-of-type {\n",
              "        vertical-align: middle;\n",
              "    }\n",
              "\n",
              "    .dataframe tbody tr th {\n",
              "        vertical-align: top;\n",
              "    }\n",
              "\n",
              "    .dataframe thead th {\n",
              "        text-align: right;\n",
              "    }\n",
              "</style>\n",
              "<table border=\"1\" class=\"dataframe\">\n",
              "  <thead>\n",
              "    <tr style=\"text-align: right;\">\n",
              "      <th></th>\n",
              "      <th>country</th>\n",
              "      <th>year</th>\n",
              "      <th>uniqueid</th>\n",
              "      <th>Has a Bank account</th>\n",
              "      <th>Type of Location</th>\n",
              "      <th>Cell Phone Access</th>\n",
              "      <th>household_size</th>\n",
              "      <th>Respondent Age</th>\n",
              "      <th>gender_of_respondent</th>\n",
              "      <th>The relathip with head</th>\n",
              "      <th>marital_status</th>\n",
              "      <th>Level of Educuation</th>\n",
              "      <th>Type of Job</th>\n",
              "    </tr>\n",
              "  </thead>\n",
              "  <tbody>\n",
              "    <tr>\n",
              "      <th>0</th>\n",
              "      <td>Kenya</td>\n",
              "      <td>2018</td>\n",
              "      <td>uniqueid_1</td>\n",
              "      <td>Yes</td>\n",
              "      <td>Rural</td>\n",
              "      <td>Yes</td>\n",
              "      <td>3.0</td>\n",
              "      <td>24.0</td>\n",
              "      <td>Female</td>\n",
              "      <td>Spouse</td>\n",
              "      <td>Married/Living together</td>\n",
              "      <td>Secondary education</td>\n",
              "      <td>Self employed</td>\n",
              "    </tr>\n",
              "    <tr>\n",
              "      <th>1</th>\n",
              "      <td>Kenya</td>\n",
              "      <td>2018</td>\n",
              "      <td>uniqueid_2</td>\n",
              "      <td>No</td>\n",
              "      <td>Rural</td>\n",
              "      <td>No</td>\n",
              "      <td>5.0</td>\n",
              "      <td>70.0</td>\n",
              "      <td>Female</td>\n",
              "      <td>Head of Household</td>\n",
              "      <td>Widowed</td>\n",
              "      <td>No formal education</td>\n",
              "      <td>Government Dependent</td>\n",
              "    </tr>\n",
              "    <tr>\n",
              "      <th>2</th>\n",
              "      <td>Kenya</td>\n",
              "      <td>2018</td>\n",
              "      <td>uniqueid_3</td>\n",
              "      <td>Yes</td>\n",
              "      <td>Urban</td>\n",
              "      <td>Yes</td>\n",
              "      <td>5.0</td>\n",
              "      <td>26.0</td>\n",
              "      <td>Male</td>\n",
              "      <td>Other relative</td>\n",
              "      <td>Single/Never Married</td>\n",
              "      <td>Vocational/Specialised training</td>\n",
              "      <td>Self employed</td>\n",
              "    </tr>\n",
              "    <tr>\n",
              "      <th>3</th>\n",
              "      <td>Kenya</td>\n",
              "      <td>2018</td>\n",
              "      <td>uniqueid_4</td>\n",
              "      <td>No</td>\n",
              "      <td>Rural</td>\n",
              "      <td>Yes</td>\n",
              "      <td>5.0</td>\n",
              "      <td>34.0</td>\n",
              "      <td>Female</td>\n",
              "      <td>Head of Household</td>\n",
              "      <td>Married/Living together</td>\n",
              "      <td>Primary education</td>\n",
              "      <td>Formally employed Private</td>\n",
              "    </tr>\n",
              "    <tr>\n",
              "      <th>4</th>\n",
              "      <td>Kenya</td>\n",
              "      <td>2018</td>\n",
              "      <td>uniqueid_5</td>\n",
              "      <td>No</td>\n",
              "      <td>Urban</td>\n",
              "      <td>No</td>\n",
              "      <td>8.0</td>\n",
              "      <td>26.0</td>\n",
              "      <td>Male</td>\n",
              "      <td>Child</td>\n",
              "      <td>Single/Never Married</td>\n",
              "      <td>Primary education</td>\n",
              "      <td>Informally employed</td>\n",
              "    </tr>\n",
              "  </tbody>\n",
              "</table>\n",
              "</div>"
            ],
            "text/plain": [
              "  country  year  ...              Level of Educuation                Type of Job\n",
              "0   Kenya  2018  ...              Secondary education              Self employed\n",
              "1   Kenya  2018  ...              No formal education       Government Dependent\n",
              "2   Kenya  2018  ...  Vocational/Specialised training              Self employed\n",
              "3   Kenya  2018  ...                Primary education  Formally employed Private\n",
              "4   Kenya  2018  ...                Primary education        Informally employed\n",
              "\n",
              "[5 rows x 13 columns]"
            ]
          },
          "metadata": {
            "tags": []
          },
          "execution_count": 4
        }
      ]
    },
    {
      "cell_type": "code",
      "metadata": {
        "id": "XWCq4OKpaM1v",
        "colab_type": "code",
        "colab": {
          "base_uri": "https://localhost:8080/",
          "height": 531
        },
        "outputId": "fde75b33-eef2-452e-955c-d0b2dd490fe0"
      },
      "source": [
        "# Sample 10 rows from the data\n",
        "finance_df.sample(10)"
      ],
      "execution_count": 5,
      "outputs": [
        {
          "output_type": "execute_result",
          "data": {
            "text/html": [
              "<div>\n",
              "<style scoped>\n",
              "    .dataframe tbody tr th:only-of-type {\n",
              "        vertical-align: middle;\n",
              "    }\n",
              "\n",
              "    .dataframe tbody tr th {\n",
              "        vertical-align: top;\n",
              "    }\n",
              "\n",
              "    .dataframe thead th {\n",
              "        text-align: right;\n",
              "    }\n",
              "</style>\n",
              "<table border=\"1\" class=\"dataframe\">\n",
              "  <thead>\n",
              "    <tr style=\"text-align: right;\">\n",
              "      <th></th>\n",
              "      <th>country</th>\n",
              "      <th>year</th>\n",
              "      <th>uniqueid</th>\n",
              "      <th>Has a Bank account</th>\n",
              "      <th>Type of Location</th>\n",
              "      <th>Cell Phone Access</th>\n",
              "      <th>household_size</th>\n",
              "      <th>Respondent Age</th>\n",
              "      <th>gender_of_respondent</th>\n",
              "      <th>The relathip with head</th>\n",
              "      <th>marital_status</th>\n",
              "      <th>Level of Educuation</th>\n",
              "      <th>Type of Job</th>\n",
              "    </tr>\n",
              "  </thead>\n",
              "  <tbody>\n",
              "    <tr>\n",
              "      <th>12788</th>\n",
              "      <td>Rwanda</td>\n",
              "      <td>2016</td>\n",
              "      <td>uniqueid_6721</td>\n",
              "      <td>No</td>\n",
              "      <td>Rural</td>\n",
              "      <td>Yes</td>\n",
              "      <td>1.0</td>\n",
              "      <td>75.0</td>\n",
              "      <td>Female</td>\n",
              "      <td>Head of Household</td>\n",
              "      <td>Widowed</td>\n",
              "      <td>No formal education</td>\n",
              "      <td>Government Dependent</td>\n",
              "    </tr>\n",
              "    <tr>\n",
              "      <th>10998</th>\n",
              "      <td>Rwanda</td>\n",
              "      <td>2016</td>\n",
              "      <td>uniqueid_4931</td>\n",
              "      <td>No</td>\n",
              "      <td>Urban</td>\n",
              "      <td>Yes</td>\n",
              "      <td>5.0</td>\n",
              "      <td>28.0</td>\n",
              "      <td>Female</td>\n",
              "      <td>Other non-relatives</td>\n",
              "      <td>Single/Never Married</td>\n",
              "      <td>Primary education</td>\n",
              "      <td>Informally employed</td>\n",
              "    </tr>\n",
              "    <tr>\n",
              "      <th>2883</th>\n",
              "      <td>Kenya</td>\n",
              "      <td>2018</td>\n",
              "      <td>uniqueid_2884</td>\n",
              "      <td>Yes</td>\n",
              "      <td>Rural</td>\n",
              "      <td>Yes</td>\n",
              "      <td>6.0</td>\n",
              "      <td>76.0</td>\n",
              "      <td>Male</td>\n",
              "      <td>Head of Household</td>\n",
              "      <td>Married/Living together</td>\n",
              "      <td>Primary education</td>\n",
              "      <td>Farming and Fishing</td>\n",
              "    </tr>\n",
              "    <tr>\n",
              "      <th>12292</th>\n",
              "      <td>Rwanda</td>\n",
              "      <td>2016</td>\n",
              "      <td>uniqueid_6225</td>\n",
              "      <td>No</td>\n",
              "      <td>Rural</td>\n",
              "      <td>Yes</td>\n",
              "      <td>3.0</td>\n",
              "      <td>27.0</td>\n",
              "      <td>Female</td>\n",
              "      <td>Spouse</td>\n",
              "      <td>Married/Living together</td>\n",
              "      <td>Primary education</td>\n",
              "      <td>Informally employed</td>\n",
              "    </tr>\n",
              "    <tr>\n",
              "      <th>18226</th>\n",
              "      <td>Tanzania</td>\n",
              "      <td>2017</td>\n",
              "      <td>uniqueid_3424</td>\n",
              "      <td>No</td>\n",
              "      <td>Rural</td>\n",
              "      <td>Yes</td>\n",
              "      <td>1.0</td>\n",
              "      <td>35.0</td>\n",
              "      <td>Male</td>\n",
              "      <td>Head of Household</td>\n",
              "      <td>Single/Never Married</td>\n",
              "      <td>Primary education</td>\n",
              "      <td>Informally employed</td>\n",
              "    </tr>\n",
              "    <tr>\n",
              "      <th>5202</th>\n",
              "      <td>Kenya</td>\n",
              "      <td>2018</td>\n",
              "      <td>uniqueid_5203</td>\n",
              "      <td>No</td>\n",
              "      <td>Rural</td>\n",
              "      <td>No</td>\n",
              "      <td>2.0</td>\n",
              "      <td>60.0</td>\n",
              "      <td>Female</td>\n",
              "      <td>Spouse</td>\n",
              "      <td>Married/Living together</td>\n",
              "      <td>No formal education</td>\n",
              "      <td>Farming and Fishing</td>\n",
              "    </tr>\n",
              "    <tr>\n",
              "      <th>17111</th>\n",
              "      <td>Tanzania</td>\n",
              "      <td>2017</td>\n",
              "      <td>uniqueid_2309</td>\n",
              "      <td>No</td>\n",
              "      <td>Urban</td>\n",
              "      <td>Yes</td>\n",
              "      <td>2.0</td>\n",
              "      <td>26.0</td>\n",
              "      <td>Male</td>\n",
              "      <td>Head of Household</td>\n",
              "      <td>Single/Never Married</td>\n",
              "      <td>Primary education</td>\n",
              "      <td>Self employed</td>\n",
              "    </tr>\n",
              "    <tr>\n",
              "      <th>16763</th>\n",
              "      <td>Tanzania</td>\n",
              "      <td>2017</td>\n",
              "      <td>uniqueid_1961</td>\n",
              "      <td>No</td>\n",
              "      <td>Urban</td>\n",
              "      <td>Yes</td>\n",
              "      <td>2.0</td>\n",
              "      <td>25.0</td>\n",
              "      <td>Female</td>\n",
              "      <td>Spouse</td>\n",
              "      <td>Single/Never Married</td>\n",
              "      <td>No formal education</td>\n",
              "      <td>Self employed</td>\n",
              "    </tr>\n",
              "    <tr>\n",
              "      <th>196</th>\n",
              "      <td>Kenya</td>\n",
              "      <td>2018</td>\n",
              "      <td>uniqueid_197</td>\n",
              "      <td>Yes</td>\n",
              "      <td>Urban</td>\n",
              "      <td>Yes</td>\n",
              "      <td>7.0</td>\n",
              "      <td>33.0</td>\n",
              "      <td>Female</td>\n",
              "      <td>Head of Household</td>\n",
              "      <td>Married/Living together</td>\n",
              "      <td>Primary education</td>\n",
              "      <td>Self employed</td>\n",
              "    </tr>\n",
              "    <tr>\n",
              "      <th>12062</th>\n",
              "      <td>Rwanda</td>\n",
              "      <td>2016</td>\n",
              "      <td>uniqueid_5995</td>\n",
              "      <td>Yes</td>\n",
              "      <td>Urban</td>\n",
              "      <td>Yes</td>\n",
              "      <td>6.0</td>\n",
              "      <td>55.0</td>\n",
              "      <td>Female</td>\n",
              "      <td>Spouse</td>\n",
              "      <td>Married/Living together</td>\n",
              "      <td>Primary education</td>\n",
              "      <td>Other Income</td>\n",
              "    </tr>\n",
              "  </tbody>\n",
              "</table>\n",
              "</div>"
            ],
            "text/plain": [
              "        country  year  ...  Level of Educuation           Type of Job\n",
              "12788    Rwanda  2016  ...  No formal education  Government Dependent\n",
              "10998    Rwanda  2016  ...    Primary education   Informally employed\n",
              "2883      Kenya  2018  ...    Primary education   Farming and Fishing\n",
              "12292    Rwanda  2016  ...    Primary education   Informally employed\n",
              "18226  Tanzania  2017  ...    Primary education   Informally employed\n",
              "5202      Kenya  2018  ...  No formal education   Farming and Fishing\n",
              "17111  Tanzania  2017  ...    Primary education         Self employed\n",
              "16763  Tanzania  2017  ...  No formal education         Self employed\n",
              "196       Kenya  2018  ...    Primary education         Self employed\n",
              "12062    Rwanda  2016  ...    Primary education          Other Income\n",
              "\n",
              "[10 rows x 13 columns]"
            ]
          },
          "metadata": {
            "tags": []
          },
          "execution_count": 5
        }
      ]
    },
    {
      "cell_type": "code",
      "metadata": {
        "id": "ZyhOsTehahzK",
        "colab_type": "code",
        "colab": {
          "base_uri": "https://localhost:8080/",
          "height": 372
        },
        "outputId": "93107977-ef9e-4493-dc8c-ead0f655e08c"
      },
      "source": [
        "# Check for data types\n",
        "finance_df.info()"
      ],
      "execution_count": 6,
      "outputs": [
        {
          "output_type": "stream",
          "text": [
            "<class 'pandas.core.frame.DataFrame'>\n",
            "RangeIndex: 23524 entries, 0 to 23523\n",
            "Data columns (total 13 columns):\n",
            " #   Column                  Non-Null Count  Dtype  \n",
            "---  ------                  --------------  -----  \n",
            " 0   country                 23510 non-null  object \n",
            " 1   year                    23524 non-null  int64  \n",
            " 2   uniqueid                23524 non-null  object \n",
            " 3   Has a Bank account      23488 non-null  object \n",
            " 4   Type of Location        23509 non-null  object \n",
            " 5   Cell Phone Access       23513 non-null  object \n",
            " 6   household_size          23496 non-null  float64\n",
            " 7   Respondent Age          23490 non-null  float64\n",
            " 8   gender_of_respondent    23490 non-null  object \n",
            " 9   The relathip with head  23520 non-null  object \n",
            " 10  marital_status          23492 non-null  object \n",
            " 11  Level of Educuation     23495 non-null  object \n",
            " 12  Type of Job             23494 non-null  object \n",
            "dtypes: float64(2), int64(1), object(10)\n",
            "memory usage: 2.3+ MB\n"
          ],
          "name": "stdout"
        }
      ]
    },
    {
      "cell_type": "code",
      "metadata": {
        "id": "qw8xicp5dG64",
        "colab_type": "code",
        "colab": {
          "base_uri": "https://localhost:8080/",
          "height": 34
        },
        "outputId": "e02372a7-e89a-429e-b148-c9f89c3ffed7"
      },
      "source": [
        "# Shape of the data\n",
        "finance_df.shape"
      ],
      "execution_count": 7,
      "outputs": [
        {
          "output_type": "execute_result",
          "data": {
            "text/plain": [
              "(23524, 13)"
            ]
          },
          "metadata": {
            "tags": []
          },
          "execution_count": 7
        }
      ]
    },
    {
      "cell_type": "code",
      "metadata": {
        "id": "x2Mi7BrhemfE",
        "colab_type": "code",
        "colab": {
          "base_uri": "https://localhost:8080/",
          "height": 34
        },
        "outputId": "28cf2388-e1e1-4b80-b9a0-95b91e19a2a5"
      },
      "source": [
        "# Check for duplicates\n",
        "finance_df.duplicated().sum()\n"
      ],
      "execution_count": 8,
      "outputs": [
        {
          "output_type": "execute_result",
          "data": {
            "text/plain": [
              "0"
            ]
          },
          "metadata": {
            "tags": []
          },
          "execution_count": 8
        }
      ]
    },
    {
      "cell_type": "code",
      "metadata": {
        "id": "uOluN0pafClQ",
        "colab_type": "code",
        "colab": {}
      },
      "source": [
        "# Drop duplicates\n",
        "finance_df.dropna(inplace=True)"
      ],
      "execution_count": 9,
      "outputs": []
    },
    {
      "cell_type": "code",
      "metadata": {
        "id": "PYo7Qs3ma6iz",
        "colab_type": "code",
        "colab": {
          "base_uri": "https://localhost:8080/",
          "height": 976
        },
        "outputId": "da15636b-4c62-43eb-9e82-45b3626fafc9"
      },
      "source": [
        "# Check for unique values in each column\n",
        "for col in finance_df.columns.to_list():\n",
        "  print(f'{col} column unique values: \\n')\n",
        "  print(finance_df[col].unique(), end='\\n')"
      ],
      "execution_count": 10,
      "outputs": [
        {
          "output_type": "stream",
          "text": [
            "country column unique values: \n",
            "\n",
            "['Kenya' 'Rwanda' 'Tanzania' 'Uganda']\n",
            "year column unique values: \n",
            "\n",
            "[2018 2029 2056 2016 2039 2017]\n",
            "uniqueid column unique values: \n",
            "\n",
            "['uniqueid_1' 'uniqueid_2' 'uniqueid_3' ... 'uniqueid_8757'\n",
            " 'uniqueid_8758' 'uniqueid_8759']\n",
            "Has a Bank account column unique values: \n",
            "\n",
            "['Yes' 'No']\n",
            "Type of Location column unique values: \n",
            "\n",
            "['Rural' 'Urban']\n",
            "Cell Phone Access column unique values: \n",
            "\n",
            "['Yes' 'No']\n",
            "household_size column unique values: \n",
            "\n",
            "[ 3.  5.  8.  7.  1.  6.  4. 10.  2. 11.  9. 12. 16. 15. 13. 14. 21.  0.\n",
            " 18. 17. 20.]\n",
            "Respondent Age column unique values: \n",
            "\n",
            "[ 24.  70.  26.  34.  32.  42.  54.  76.  40.  69.  64.  31.  38.  47.\n",
            "  27.  48.  25.  21.  18.  22.  58.  55.  62.  29.  35.  45.  67.  19.\n",
            "  80.  66.  50.  33.  28.  51.  16.  17.  30.  37.  59.  65.  46.  56.\n",
            "  52.  23.  43.  49.  44.  72.  53.  63.  39.  81.  78.  36.  20.  60.\n",
            "  95.  71.  57.  85.  68.  41.  61.  75.  86.  73.  93.  74.  88.  90.\n",
            "  77.  84.  82.  89.  79.  83.  94.  87.  92.  91.  98.  97.  96.  99.\n",
            " 100.]\n",
            "gender_of_respondent column unique values: \n",
            "\n",
            "['Female' 'Male']\n",
            "The relathip with head column unique values: \n",
            "\n",
            "['Spouse' 'Head of Household' 'Other relative' 'Child' 'Parent'\n",
            " 'Other non-relatives']\n",
            "marital_status column unique values: \n",
            "\n",
            "['Married/Living together' 'Widowed' 'Single/Never Married'\n",
            " 'Divorced/Seperated' 'Dont know']\n",
            "Level of Educuation column unique values: \n",
            "\n",
            "['Secondary education' 'No formal education'\n",
            " 'Vocational/Specialised training' 'Primary education'\n",
            " 'Tertiary education' 'Other/Dont know/RTA' '6']\n",
            "Type of Job column unique values: \n",
            "\n",
            "['Self employed' 'Government Dependent' 'Formally employed Private'\n",
            " 'Informally employed' 'Formally employed Government'\n",
            " 'Farming and Fishing' 'Remittance Dependent' 'Other Income'\n",
            " 'Dont Know/Refuse to answer' 'No Income']\n"
          ],
          "name": "stdout"
        }
      ]
    },
    {
      "cell_type": "markdown",
      "metadata": {
        "id": "BJ1SVqu4cOKC",
        "colab_type": "text"
      },
      "source": [
        "- Dataset contains missing values in multiple columns.\n",
        "- Outliers in year and the Level of education columns"
      ]
    },
    {
      "cell_type": "code",
      "metadata": {
        "id": "dgeiDthObpIt",
        "colab_type": "code",
        "colab": {
          "base_uri": "https://localhost:8080/",
          "height": 221
        },
        "outputId": "777512be-976c-42b6-8113-78d47434e5ef"
      },
      "source": [
        "# Investigate rows with incorrect years\n",
        "finance_df[finance_df['year'].isin([2029,2056,2039])]"
      ],
      "execution_count": 11,
      "outputs": [
        {
          "output_type": "execute_result",
          "data": {
            "text/html": [
              "<div>\n",
              "<style scoped>\n",
              "    .dataframe tbody tr th:only-of-type {\n",
              "        vertical-align: middle;\n",
              "    }\n",
              "\n",
              "    .dataframe tbody tr th {\n",
              "        vertical-align: top;\n",
              "    }\n",
              "\n",
              "    .dataframe thead th {\n",
              "        text-align: right;\n",
              "    }\n",
              "</style>\n",
              "<table border=\"1\" class=\"dataframe\">\n",
              "  <thead>\n",
              "    <tr style=\"text-align: right;\">\n",
              "      <th></th>\n",
              "      <th>country</th>\n",
              "      <th>year</th>\n",
              "      <th>uniqueid</th>\n",
              "      <th>Has a Bank account</th>\n",
              "      <th>Type of Location</th>\n",
              "      <th>Cell Phone Access</th>\n",
              "      <th>household_size</th>\n",
              "      <th>Respondent Age</th>\n",
              "      <th>gender_of_respondent</th>\n",
              "      <th>The relathip with head</th>\n",
              "      <th>marital_status</th>\n",
              "      <th>Level of Educuation</th>\n",
              "      <th>Type of Job</th>\n",
              "    </tr>\n",
              "  </thead>\n",
              "  <tbody>\n",
              "    <tr>\n",
              "      <th>213</th>\n",
              "      <td>Kenya</td>\n",
              "      <td>2029</td>\n",
              "      <td>uniqueid_214</td>\n",
              "      <td>No</td>\n",
              "      <td>Urban</td>\n",
              "      <td>Yes</td>\n",
              "      <td>6.0</td>\n",
              "      <td>16.0</td>\n",
              "      <td>Male</td>\n",
              "      <td>Other relative</td>\n",
              "      <td>Single/Never Married</td>\n",
              "      <td>Secondary education</td>\n",
              "      <td>Remittance Dependent</td>\n",
              "    </tr>\n",
              "    <tr>\n",
              "      <th>308</th>\n",
              "      <td>Kenya</td>\n",
              "      <td>2056</td>\n",
              "      <td>uniqueid_309</td>\n",
              "      <td>Yes</td>\n",
              "      <td>Urban</td>\n",
              "      <td>Yes</td>\n",
              "      <td>4.0</td>\n",
              "      <td>40.0</td>\n",
              "      <td>Male</td>\n",
              "      <td>Head of Household</td>\n",
              "      <td>Married/Living together</td>\n",
              "      <td>Tertiary education</td>\n",
              "      <td>Formally employed Private</td>\n",
              "    </tr>\n",
              "    <tr>\n",
              "      <th>7014</th>\n",
              "      <td>Rwanda</td>\n",
              "      <td>2039</td>\n",
              "      <td>uniqueid_947</td>\n",
              "      <td>No</td>\n",
              "      <td>Rural</td>\n",
              "      <td>Yes</td>\n",
              "      <td>3.0</td>\n",
              "      <td>24.0</td>\n",
              "      <td>Female</td>\n",
              "      <td>Spouse</td>\n",
              "      <td>Married/Living together</td>\n",
              "      <td>Primary education</td>\n",
              "      <td>Informally employed</td>\n",
              "    </tr>\n",
              "  </tbody>\n",
              "</table>\n",
              "</div>"
            ],
            "text/plain": [
              "     country  year  ...  Level of Educuation                Type of Job\n",
              "213    Kenya  2029  ...  Secondary education       Remittance Dependent\n",
              "308    Kenya  2056  ...   Tertiary education  Formally employed Private\n",
              "7014  Rwanda  2039  ...    Primary education        Informally employed\n",
              "\n",
              "[3 rows x 13 columns]"
            ]
          },
          "metadata": {
            "tags": []
          },
          "execution_count": 11
        }
      ]
    },
    {
      "cell_type": "code",
      "metadata": {
        "id": "2RU2I4Q-dxrx",
        "colab_type": "code",
        "colab": {}
      },
      "source": [
        "# Drop erroneous year data\n",
        "err_years = finance_df[finance_df['year'].isin([2029,2056,2039])].index\n",
        "finance_df.drop(index=err_years, inplace=True)"
      ],
      "execution_count": 12,
      "outputs": []
    },
    {
      "cell_type": "code",
      "metadata": {
        "id": "bhkk6e_Aejzj",
        "colab_type": "code",
        "colab": {
          "base_uri": "https://localhost:8080/",
          "height": 1000
        },
        "outputId": "0f7f6592-6ac6-4c0a-a948-c695d8659519"
      },
      "source": [
        "# Investigate rows with incorrect education data\n",
        "finance_df[finance_df['Level of Educuation']=='6']"
      ],
      "execution_count": 13,
      "outputs": [
        {
          "output_type": "execute_result",
          "data": {
            "text/html": [
              "<div>\n",
              "<style scoped>\n",
              "    .dataframe tbody tr th:only-of-type {\n",
              "        vertical-align: middle;\n",
              "    }\n",
              "\n",
              "    .dataframe tbody tr th {\n",
              "        vertical-align: top;\n",
              "    }\n",
              "\n",
              "    .dataframe thead th {\n",
              "        text-align: right;\n",
              "    }\n",
              "</style>\n",
              "<table border=\"1\" class=\"dataframe\">\n",
              "  <thead>\n",
              "    <tr style=\"text-align: right;\">\n",
              "      <th></th>\n",
              "      <th>country</th>\n",
              "      <th>year</th>\n",
              "      <th>uniqueid</th>\n",
              "      <th>Has a Bank account</th>\n",
              "      <th>Type of Location</th>\n",
              "      <th>Cell Phone Access</th>\n",
              "      <th>household_size</th>\n",
              "      <th>Respondent Age</th>\n",
              "      <th>gender_of_respondent</th>\n",
              "      <th>The relathip with head</th>\n",
              "      <th>marital_status</th>\n",
              "      <th>Level of Educuation</th>\n",
              "      <th>Type of Job</th>\n",
              "    </tr>\n",
              "  </thead>\n",
              "  <tbody>\n",
              "    <tr>\n",
              "      <th>6867</th>\n",
              "      <td>Rwanda</td>\n",
              "      <td>2016</td>\n",
              "      <td>uniqueid_800</td>\n",
              "      <td>No</td>\n",
              "      <td>Rural</td>\n",
              "      <td>No</td>\n",
              "      <td>5.0</td>\n",
              "      <td>34.0</td>\n",
              "      <td>Female</td>\n",
              "      <td>Spouse</td>\n",
              "      <td>Married/Living together</td>\n",
              "      <td>6</td>\n",
              "      <td>Informally employed</td>\n",
              "    </tr>\n",
              "    <tr>\n",
              "      <th>7937</th>\n",
              "      <td>Rwanda</td>\n",
              "      <td>2016</td>\n",
              "      <td>uniqueid_1870</td>\n",
              "      <td>No</td>\n",
              "      <td>Rural</td>\n",
              "      <td>No</td>\n",
              "      <td>8.0</td>\n",
              "      <td>31.0</td>\n",
              "      <td>Female</td>\n",
              "      <td>Spouse</td>\n",
              "      <td>Married/Living together</td>\n",
              "      <td>6</td>\n",
              "      <td>Informally employed</td>\n",
              "    </tr>\n",
              "    <tr>\n",
              "      <th>8226</th>\n",
              "      <td>Rwanda</td>\n",
              "      <td>2016</td>\n",
              "      <td>uniqueid_2159</td>\n",
              "      <td>No</td>\n",
              "      <td>Rural</td>\n",
              "      <td>No</td>\n",
              "      <td>2.0</td>\n",
              "      <td>80.0</td>\n",
              "      <td>Male</td>\n",
              "      <td>Head of Household</td>\n",
              "      <td>Married/Living together</td>\n",
              "      <td>6</td>\n",
              "      <td>Informally employed</td>\n",
              "    </tr>\n",
              "    <tr>\n",
              "      <th>8453</th>\n",
              "      <td>Rwanda</td>\n",
              "      <td>2016</td>\n",
              "      <td>uniqueid_2386</td>\n",
              "      <td>No</td>\n",
              "      <td>Urban</td>\n",
              "      <td>Yes</td>\n",
              "      <td>3.0</td>\n",
              "      <td>36.0</td>\n",
              "      <td>Female</td>\n",
              "      <td>Head of Household</td>\n",
              "      <td>Divorced/Seperated</td>\n",
              "      <td>6</td>\n",
              "      <td>Informally employed</td>\n",
              "    </tr>\n",
              "    <tr>\n",
              "      <th>8778</th>\n",
              "      <td>Rwanda</td>\n",
              "      <td>2016</td>\n",
              "      <td>uniqueid_2711</td>\n",
              "      <td>No</td>\n",
              "      <td>Rural</td>\n",
              "      <td>Yes</td>\n",
              "      <td>4.0</td>\n",
              "      <td>44.0</td>\n",
              "      <td>Male</td>\n",
              "      <td>Head of Household</td>\n",
              "      <td>Married/Living together</td>\n",
              "      <td>6</td>\n",
              "      <td>Informally employed</td>\n",
              "    </tr>\n",
              "    <tr>\n",
              "      <th>9269</th>\n",
              "      <td>Rwanda</td>\n",
              "      <td>2016</td>\n",
              "      <td>uniqueid_3202</td>\n",
              "      <td>Yes</td>\n",
              "      <td>Urban</td>\n",
              "      <td>Yes</td>\n",
              "      <td>2.0</td>\n",
              "      <td>70.0</td>\n",
              "      <td>Female</td>\n",
              "      <td>Head of Household</td>\n",
              "      <td>Widowed</td>\n",
              "      <td>6</td>\n",
              "      <td>Remittance Dependent</td>\n",
              "    </tr>\n",
              "    <tr>\n",
              "      <th>9878</th>\n",
              "      <td>Rwanda</td>\n",
              "      <td>2016</td>\n",
              "      <td>uniqueid_3811</td>\n",
              "      <td>No</td>\n",
              "      <td>Rural</td>\n",
              "      <td>No</td>\n",
              "      <td>2.0</td>\n",
              "      <td>48.0</td>\n",
              "      <td>Female</td>\n",
              "      <td>Spouse</td>\n",
              "      <td>Married/Living together</td>\n",
              "      <td>6</td>\n",
              "      <td>Formally employed Private</td>\n",
              "    </tr>\n",
              "    <tr>\n",
              "      <th>9944</th>\n",
              "      <td>Rwanda</td>\n",
              "      <td>2016</td>\n",
              "      <td>uniqueid_3877</td>\n",
              "      <td>Yes</td>\n",
              "      <td>Urban</td>\n",
              "      <td>Yes</td>\n",
              "      <td>3.0</td>\n",
              "      <td>38.0</td>\n",
              "      <td>Male</td>\n",
              "      <td>Head of Household</td>\n",
              "      <td>Married/Living together</td>\n",
              "      <td>6</td>\n",
              "      <td>Informally employed</td>\n",
              "    </tr>\n",
              "    <tr>\n",
              "      <th>10560</th>\n",
              "      <td>Rwanda</td>\n",
              "      <td>2016</td>\n",
              "      <td>uniqueid_4493</td>\n",
              "      <td>No</td>\n",
              "      <td>Rural</td>\n",
              "      <td>Yes</td>\n",
              "      <td>6.0</td>\n",
              "      <td>48.0</td>\n",
              "      <td>Female</td>\n",
              "      <td>Spouse</td>\n",
              "      <td>Married/Living together</td>\n",
              "      <td>6</td>\n",
              "      <td>Informally employed</td>\n",
              "    </tr>\n",
              "    <tr>\n",
              "      <th>10767</th>\n",
              "      <td>Rwanda</td>\n",
              "      <td>2016</td>\n",
              "      <td>uniqueid_4700</td>\n",
              "      <td>No</td>\n",
              "      <td>Rural</td>\n",
              "      <td>No</td>\n",
              "      <td>2.0</td>\n",
              "      <td>63.0</td>\n",
              "      <td>Female</td>\n",
              "      <td>Head of Household</td>\n",
              "      <td>Divorced/Seperated</td>\n",
              "      <td>6</td>\n",
              "      <td>Informally employed</td>\n",
              "    </tr>\n",
              "    <tr>\n",
              "      <th>10944</th>\n",
              "      <td>Rwanda</td>\n",
              "      <td>2016</td>\n",
              "      <td>uniqueid_4877</td>\n",
              "      <td>No</td>\n",
              "      <td>Rural</td>\n",
              "      <td>No</td>\n",
              "      <td>2.0</td>\n",
              "      <td>85.0</td>\n",
              "      <td>Male</td>\n",
              "      <td>Head of Household</td>\n",
              "      <td>Married/Living together</td>\n",
              "      <td>6</td>\n",
              "      <td>Informally employed</td>\n",
              "    </tr>\n",
              "    <tr>\n",
              "      <th>12358</th>\n",
              "      <td>Rwanda</td>\n",
              "      <td>2016</td>\n",
              "      <td>uniqueid_6291</td>\n",
              "      <td>No</td>\n",
              "      <td>Rural</td>\n",
              "      <td>No</td>\n",
              "      <td>5.0</td>\n",
              "      <td>57.0</td>\n",
              "      <td>Female</td>\n",
              "      <td>Spouse</td>\n",
              "      <td>Married/Living together</td>\n",
              "      <td>6</td>\n",
              "      <td>Informally employed</td>\n",
              "    </tr>\n",
              "    <tr>\n",
              "      <th>13404</th>\n",
              "      <td>Rwanda</td>\n",
              "      <td>2016</td>\n",
              "      <td>uniqueid_7337</td>\n",
              "      <td>Yes</td>\n",
              "      <td>Urban</td>\n",
              "      <td>Yes</td>\n",
              "      <td>1.0</td>\n",
              "      <td>63.0</td>\n",
              "      <td>Female</td>\n",
              "      <td>Head of Household</td>\n",
              "      <td>Widowed</td>\n",
              "      <td>6</td>\n",
              "      <td>Informally employed</td>\n",
              "    </tr>\n",
              "    <tr>\n",
              "      <th>13727</th>\n",
              "      <td>Rwanda</td>\n",
              "      <td>2016</td>\n",
              "      <td>uniqueid_7660</td>\n",
              "      <td>No</td>\n",
              "      <td>Rural</td>\n",
              "      <td>No</td>\n",
              "      <td>7.0</td>\n",
              "      <td>35.0</td>\n",
              "      <td>Female</td>\n",
              "      <td>Spouse</td>\n",
              "      <td>Married/Living together</td>\n",
              "      <td>6</td>\n",
              "      <td>Informally employed</td>\n",
              "    </tr>\n",
              "    <tr>\n",
              "      <th>14277</th>\n",
              "      <td>Rwanda</td>\n",
              "      <td>2016</td>\n",
              "      <td>uniqueid_8210</td>\n",
              "      <td>No</td>\n",
              "      <td>Urban</td>\n",
              "      <td>Yes</td>\n",
              "      <td>6.0</td>\n",
              "      <td>65.0</td>\n",
              "      <td>Male</td>\n",
              "      <td>Head of Household</td>\n",
              "      <td>Widowed</td>\n",
              "      <td>6</td>\n",
              "      <td>Informally employed</td>\n",
              "    </tr>\n",
              "    <tr>\n",
              "      <th>14513</th>\n",
              "      <td>Rwanda</td>\n",
              "      <td>2016</td>\n",
              "      <td>uniqueid_8446</td>\n",
              "      <td>Yes</td>\n",
              "      <td>Rural</td>\n",
              "      <td>Yes</td>\n",
              "      <td>6.0</td>\n",
              "      <td>43.0</td>\n",
              "      <td>Female</td>\n",
              "      <td>Spouse</td>\n",
              "      <td>Married/Living together</td>\n",
              "      <td>6</td>\n",
              "      <td>Other Income</td>\n",
              "    </tr>\n",
              "    <tr>\n",
              "      <th>14692</th>\n",
              "      <td>Rwanda</td>\n",
              "      <td>2016</td>\n",
              "      <td>uniqueid_8636</td>\n",
              "      <td>No</td>\n",
              "      <td>Rural</td>\n",
              "      <td>Yes</td>\n",
              "      <td>6.0</td>\n",
              "      <td>48.0</td>\n",
              "      <td>Female</td>\n",
              "      <td>Spouse</td>\n",
              "      <td>Married/Living together</td>\n",
              "      <td>6</td>\n",
              "      <td>Informally employed</td>\n",
              "    </tr>\n",
              "    <tr>\n",
              "      <th>14706</th>\n",
              "      <td>Rwanda</td>\n",
              "      <td>2016</td>\n",
              "      <td>uniqueid_8652</td>\n",
              "      <td>No</td>\n",
              "      <td>Urban</td>\n",
              "      <td>No</td>\n",
              "      <td>3.0</td>\n",
              "      <td>80.0</td>\n",
              "      <td>Female</td>\n",
              "      <td>Head of Household</td>\n",
              "      <td>Widowed</td>\n",
              "      <td>6</td>\n",
              "      <td>Remittance Dependent</td>\n",
              "    </tr>\n",
              "    <tr>\n",
              "      <th>14892</th>\n",
              "      <td>Tanzania</td>\n",
              "      <td>2017</td>\n",
              "      <td>uniqueid_90</td>\n",
              "      <td>No</td>\n",
              "      <td>Urban</td>\n",
              "      <td>Yes</td>\n",
              "      <td>1.0</td>\n",
              "      <td>69.0</td>\n",
              "      <td>Male</td>\n",
              "      <td>Head of Household</td>\n",
              "      <td>Widowed</td>\n",
              "      <td>6</td>\n",
              "      <td>Informally employed</td>\n",
              "    </tr>\n",
              "    <tr>\n",
              "      <th>15379</th>\n",
              "      <td>Tanzania</td>\n",
              "      <td>2017</td>\n",
              "      <td>uniqueid_577</td>\n",
              "      <td>Yes</td>\n",
              "      <td>Rural</td>\n",
              "      <td>Yes</td>\n",
              "      <td>1.0</td>\n",
              "      <td>71.0</td>\n",
              "      <td>Male</td>\n",
              "      <td>Head of Household</td>\n",
              "      <td>Single/Never Married</td>\n",
              "      <td>6</td>\n",
              "      <td>Government Dependent</td>\n",
              "    </tr>\n",
              "    <tr>\n",
              "      <th>19695</th>\n",
              "      <td>Tanzania</td>\n",
              "      <td>2017</td>\n",
              "      <td>uniqueid_4893</td>\n",
              "      <td>No</td>\n",
              "      <td>Urban</td>\n",
              "      <td>No</td>\n",
              "      <td>1.0</td>\n",
              "      <td>80.0</td>\n",
              "      <td>Female</td>\n",
              "      <td>Head of Household</td>\n",
              "      <td>Widowed</td>\n",
              "      <td>6</td>\n",
              "      <td>Self employed</td>\n",
              "    </tr>\n",
              "    <tr>\n",
              "      <th>21988</th>\n",
              "      <td>Uganda</td>\n",
              "      <td>2018</td>\n",
              "      <td>uniqueid_566</td>\n",
              "      <td>No</td>\n",
              "      <td>Rural</td>\n",
              "      <td>Yes</td>\n",
              "      <td>1.0</td>\n",
              "      <td>23.0</td>\n",
              "      <td>Female</td>\n",
              "      <td>Head of Household</td>\n",
              "      <td>Single/Never Married</td>\n",
              "      <td>6</td>\n",
              "      <td>Self employed</td>\n",
              "    </tr>\n",
              "    <tr>\n",
              "      <th>22046</th>\n",
              "      <td>Uganda</td>\n",
              "      <td>2018</td>\n",
              "      <td>uniqueid_624</td>\n",
              "      <td>No</td>\n",
              "      <td>Urban</td>\n",
              "      <td>Yes</td>\n",
              "      <td>2.0</td>\n",
              "      <td>24.0</td>\n",
              "      <td>Female</td>\n",
              "      <td>Spouse</td>\n",
              "      <td>Married/Living together</td>\n",
              "      <td>6</td>\n",
              "      <td>No Income</td>\n",
              "    </tr>\n",
              "    <tr>\n",
              "      <th>22101</th>\n",
              "      <td>Uganda</td>\n",
              "      <td>2018</td>\n",
              "      <td>uniqueid_679</td>\n",
              "      <td>No</td>\n",
              "      <td>Rural</td>\n",
              "      <td>Yes</td>\n",
              "      <td>6.0</td>\n",
              "      <td>30.0</td>\n",
              "      <td>Female</td>\n",
              "      <td>Spouse</td>\n",
              "      <td>Married/Living together</td>\n",
              "      <td>6</td>\n",
              "      <td>No Income</td>\n",
              "    </tr>\n",
              "    <tr>\n",
              "      <th>22224</th>\n",
              "      <td>Uganda</td>\n",
              "      <td>2018</td>\n",
              "      <td>uniqueid_802</td>\n",
              "      <td>No</td>\n",
              "      <td>Urban</td>\n",
              "      <td>Yes</td>\n",
              "      <td>2.0</td>\n",
              "      <td>20.0</td>\n",
              "      <td>Female</td>\n",
              "      <td>Spouse</td>\n",
              "      <td>Married/Living together</td>\n",
              "      <td>6</td>\n",
              "      <td>No Income</td>\n",
              "    </tr>\n",
              "    <tr>\n",
              "      <th>22643</th>\n",
              "      <td>Uganda</td>\n",
              "      <td>2018</td>\n",
              "      <td>uniqueid_1221</td>\n",
              "      <td>No</td>\n",
              "      <td>Rural</td>\n",
              "      <td>No</td>\n",
              "      <td>12.0</td>\n",
              "      <td>18.0</td>\n",
              "      <td>Male</td>\n",
              "      <td>Other relative</td>\n",
              "      <td>Single/Never Married</td>\n",
              "      <td>6</td>\n",
              "      <td>Self employed</td>\n",
              "    </tr>\n",
              "    <tr>\n",
              "      <th>22760</th>\n",
              "      <td>Uganda</td>\n",
              "      <td>2018</td>\n",
              "      <td>uniqueid_1338</td>\n",
              "      <td>No</td>\n",
              "      <td>Urban</td>\n",
              "      <td>Yes</td>\n",
              "      <td>4.0</td>\n",
              "      <td>60.0</td>\n",
              "      <td>Male</td>\n",
              "      <td>Head of Household</td>\n",
              "      <td>Married/Living together</td>\n",
              "      <td>6</td>\n",
              "      <td>Self employed</td>\n",
              "    </tr>\n",
              "  </tbody>\n",
              "</table>\n",
              "</div>"
            ],
            "text/plain": [
              "        country  year  ... Level of Educuation                Type of Job\n",
              "6867     Rwanda  2016  ...                   6        Informally employed\n",
              "7937     Rwanda  2016  ...                   6        Informally employed\n",
              "8226     Rwanda  2016  ...                   6        Informally employed\n",
              "8453     Rwanda  2016  ...                   6        Informally employed\n",
              "8778     Rwanda  2016  ...                   6        Informally employed\n",
              "9269     Rwanda  2016  ...                   6       Remittance Dependent\n",
              "9878     Rwanda  2016  ...                   6  Formally employed Private\n",
              "9944     Rwanda  2016  ...                   6        Informally employed\n",
              "10560    Rwanda  2016  ...                   6        Informally employed\n",
              "10767    Rwanda  2016  ...                   6        Informally employed\n",
              "10944    Rwanda  2016  ...                   6        Informally employed\n",
              "12358    Rwanda  2016  ...                   6        Informally employed\n",
              "13404    Rwanda  2016  ...                   6        Informally employed\n",
              "13727    Rwanda  2016  ...                   6        Informally employed\n",
              "14277    Rwanda  2016  ...                   6        Informally employed\n",
              "14513    Rwanda  2016  ...                   6               Other Income\n",
              "14692    Rwanda  2016  ...                   6        Informally employed\n",
              "14706    Rwanda  2016  ...                   6       Remittance Dependent\n",
              "14892  Tanzania  2017  ...                   6        Informally employed\n",
              "15379  Tanzania  2017  ...                   6       Government Dependent\n",
              "19695  Tanzania  2017  ...                   6              Self employed\n",
              "21988    Uganda  2018  ...                   6              Self employed\n",
              "22046    Uganda  2018  ...                   6                  No Income\n",
              "22101    Uganda  2018  ...                   6                  No Income\n",
              "22224    Uganda  2018  ...                   6                  No Income\n",
              "22643    Uganda  2018  ...                   6              Self employed\n",
              "22760    Uganda  2018  ...                   6              Self employed\n",
              "\n",
              "[27 rows x 13 columns]"
            ]
          },
          "metadata": {
            "tags": []
          },
          "execution_count": 13
        }
      ]
    },
    {
      "cell_type": "code",
      "metadata": {
        "id": "cgXCJ1RVe62r",
        "colab_type": "code",
        "colab": {}
      },
      "source": [
        "# Drop erroneous education data\n",
        "err_education = finance_df[finance_df['Level of Educuation']== '6'].index\n",
        "finance_df.drop(index=err_education, inplace=True)"
      ],
      "execution_count": 14,
      "outputs": []
    },
    {
      "cell_type": "code",
      "metadata": {
        "id": "P9ApEU3zf0JP",
        "colab_type": "code",
        "colab": {
          "base_uri": "https://localhost:8080/",
          "height": 265
        },
        "outputId": "c44ea130-b41e-485b-f9cf-8f92204c4b26"
      },
      "source": [
        "# Check for missing values\n",
        "finance_df.isnull().sum().sort_values(ascending=False)"
      ],
      "execution_count": 15,
      "outputs": [
        {
          "output_type": "execute_result",
          "data": {
            "text/plain": [
              "Type of Job               0\n",
              "Level of Educuation       0\n",
              "marital_status            0\n",
              "The relathip with head    0\n",
              "gender_of_respondent      0\n",
              "Respondent Age            0\n",
              "household_size            0\n",
              "Cell Phone Access         0\n",
              "Type of Location          0\n",
              "Has a Bank account        0\n",
              "uniqueid                  0\n",
              "year                      0\n",
              "country                   0\n",
              "dtype: int64"
            ]
          },
          "metadata": {
            "tags": []
          },
          "execution_count": 15
        }
      ]
    },
    {
      "cell_type": "code",
      "metadata": {
        "id": "4i1bwUwVrav-",
        "colab_type": "code",
        "colab": {}
      },
      "source": [
        "# Drop any null values\n",
        "finance_df.dropna(inplace=True)"
      ],
      "execution_count": 16,
      "outputs": []
    },
    {
      "cell_type": "code",
      "metadata": {
        "id": "KSsNnuigsOoD",
        "colab_type": "code",
        "colab": {}
      },
      "source": [
        "# Drop id column\n",
        "finance_df.drop(columns='uniqueid', inplace=True)"
      ],
      "execution_count": 17,
      "outputs": []
    },
    {
      "cell_type": "markdown",
      "metadata": {
        "id": "szI_eo-msv-o",
        "colab_type": "text"
      },
      "source": [
        "### Univariate Analysis\n"
      ]
    },
    {
      "cell_type": "code",
      "metadata": {
        "id": "PoBOpvkviJGh",
        "colab_type": "code",
        "colab": {
          "base_uri": "https://localhost:8080/",
          "height": 70
        },
        "outputId": "bba6e253-efe5-4ecb-dd8d-77960da1d57e"
      },
      "source": [
        "# Get proportion of individuals with or without bank accounts\n",
        "finance_df['Has a Bank account'].value_counts(normalize=True)*100"
      ],
      "execution_count": 58,
      "outputs": [
        {
          "output_type": "execute_result",
          "data": {
            "text/plain": [
              "No     85.883413\n",
              "Yes    14.116587\n",
              "Name: Has a Bank account, dtype: float64"
            ]
          },
          "metadata": {
            "tags": []
          },
          "execution_count": 58
        }
      ]
    },
    {
      "cell_type": "code",
      "metadata": {
        "id": "pfGXhfres1N_",
        "colab_type": "code",
        "colab": {
          "base_uri": "https://localhost:8080/",
          "height": 287
        },
        "outputId": "705bffed-379b-4951-fabc-be1869d1652a"
      },
      "source": [
        "# Describe numerical variables\n",
        "finance_df[['household_size','Respondent Age']].describe()"
      ],
      "execution_count": 18,
      "outputs": [
        {
          "output_type": "execute_result",
          "data": {
            "text/html": [
              "<div>\n",
              "<style scoped>\n",
              "    .dataframe tbody tr th:only-of-type {\n",
              "        vertical-align: middle;\n",
              "    }\n",
              "\n",
              "    .dataframe tbody tr th {\n",
              "        vertical-align: top;\n",
              "    }\n",
              "\n",
              "    .dataframe thead th {\n",
              "        text-align: right;\n",
              "    }\n",
              "</style>\n",
              "<table border=\"1\" class=\"dataframe\">\n",
              "  <thead>\n",
              "    <tr style=\"text-align: right;\">\n",
              "      <th></th>\n",
              "      <th>household_size</th>\n",
              "      <th>Respondent Age</th>\n",
              "    </tr>\n",
              "  </thead>\n",
              "  <tbody>\n",
              "    <tr>\n",
              "      <th>count</th>\n",
              "      <td>23313.000000</td>\n",
              "      <td>23313.000000</td>\n",
              "    </tr>\n",
              "    <tr>\n",
              "      <th>mean</th>\n",
              "      <td>3.688414</td>\n",
              "      <td>38.793549</td>\n",
              "    </tr>\n",
              "    <tr>\n",
              "      <th>std</th>\n",
              "      <td>2.280842</td>\n",
              "      <td>16.510611</td>\n",
              "    </tr>\n",
              "    <tr>\n",
              "      <th>min</th>\n",
              "      <td>0.000000</td>\n",
              "      <td>16.000000</td>\n",
              "    </tr>\n",
              "    <tr>\n",
              "      <th>25%</th>\n",
              "      <td>2.000000</td>\n",
              "      <td>26.000000</td>\n",
              "    </tr>\n",
              "    <tr>\n",
              "      <th>50%</th>\n",
              "      <td>3.000000</td>\n",
              "      <td>35.000000</td>\n",
              "    </tr>\n",
              "    <tr>\n",
              "      <th>75%</th>\n",
              "      <td>5.000000</td>\n",
              "      <td>49.000000</td>\n",
              "    </tr>\n",
              "    <tr>\n",
              "      <th>max</th>\n",
              "      <td>21.000000</td>\n",
              "      <td>100.000000</td>\n",
              "    </tr>\n",
              "  </tbody>\n",
              "</table>\n",
              "</div>"
            ],
            "text/plain": [
              "       household_size  Respondent Age\n",
              "count    23313.000000    23313.000000\n",
              "mean         3.688414       38.793549\n",
              "std          2.280842       16.510611\n",
              "min          0.000000       16.000000\n",
              "25%          2.000000       26.000000\n",
              "50%          3.000000       35.000000\n",
              "75%          5.000000       49.000000\n",
              "max         21.000000      100.000000"
            ]
          },
          "metadata": {
            "tags": []
          },
          "execution_count": 18
        }
      ]
    },
    {
      "cell_type": "code",
      "metadata": {
        "id": "vvs_uzHytUPU",
        "colab_type": "code",
        "colab": {
          "base_uri": "https://localhost:8080/",
          "height": 318
        },
        "outputId": "a633f981-739e-4db5-d629-31071ed292b6"
      },
      "source": [
        "# Plot respondent age \n",
        "sns.distplot(finance_df['Respondent Age'], bins=10)\n",
        "plt.title('Respondent age distribution')"
      ],
      "execution_count": 19,
      "outputs": [
        {
          "output_type": "execute_result",
          "data": {
            "text/plain": [
              "Text(0.5, 1.0, 'Respondent age distribution')"
            ]
          },
          "metadata": {
            "tags": []
          },
          "execution_count": 19
        },
        {
          "output_type": "display_data",
          "data": {
            "image/png": "[encoded data removed]",
            "text/plain": [
              "<Figure size 432x288 with 1 Axes>"
            ]
          },
          "metadata": {
            "tags": [],
            "needs_background": "light"
          }
        }
      ]
    },
    {
      "cell_type": "code",
      "metadata": {
        "id": "hSHXFvZIwGmh",
        "colab_type": "code",
        "colab": {
          "base_uri": "https://localhost:8080/",
          "height": 34
        },
        "outputId": "7366bda3-6382-4a15-8a8d-baaceeb95753"
      },
      "source": [
        "finance_df['Respondent Age'].skew()"
      ],
      "execution_count": 20,
      "outputs": [
        {
          "output_type": "execute_result",
          "data": {
            "text/plain": [
              "0.8412764239448531"
            ]
          },
          "metadata": {
            "tags": []
          },
          "execution_count": 20
        }
      ]
    },
    {
      "cell_type": "markdown",
      "metadata": {
        "id": "WkIF-m7LwCfC",
        "colab_type": "text"
      },
      "source": [
        "The age variable is moderately positively skewed."
      ]
    },
    {
      "cell_type": "code",
      "metadata": {
        "id": "iQ1buRnfuQGi",
        "colab_type": "code",
        "colab": {
          "base_uri": "https://localhost:8080/",
          "height": 34
        },
        "outputId": "acece3bd-bab2-4805-bad1-c632c65f7fda"
      },
      "source": [
        "# Check for outliers\n",
        "finance_df['Respondent Age'].kurt()"
      ],
      "execution_count": 21,
      "outputs": [
        {
          "output_type": "execute_result",
          "data": {
            "text/plain": [
              "0.10122691422605756"
            ]
          },
          "metadata": {
            "tags": []
          },
          "execution_count": 21
        }
      ]
    },
    {
      "cell_type": "markdown",
      "metadata": {
        "id": "n9F2N12BxJvu",
        "colab_type": "text"
      },
      "source": [
        "The data is platykurtic, no outliers"
      ]
    },
    {
      "cell_type": "code",
      "metadata": {
        "id": "xlS4PpQkw0qB",
        "colab_type": "code",
        "colab": {
          "base_uri": "https://localhost:8080/",
          "height": 318
        },
        "outputId": "27793491-b2ce-4a0a-def6-f80097aa93e0"
      },
      "source": [
        "# Plot respondent age \n",
        "sns.distplot(finance_df['household_size'], bins=10)\n",
        "plt.title('Household Size Distribution')"
      ],
      "execution_count": 22,
      "outputs": [
        {
          "output_type": "execute_result",
          "data": {
            "text/plain": [
              "Text(0.5, 1.0, 'Household Size Distribution')"
            ]
          },
          "metadata": {
            "tags": []
          },
          "execution_count": 22
        },
        {
          "output_type": "display_data",
          "data": {
            "image/png": "[encoded data removed]",
            "text/plain": [
              "<Figure size 432x288 with 1 Axes>"
            ]
          },
          "metadata": {
            "tags": [],
            "needs_background": "light"
          }
        }
      ]
    },
    {
      "cell_type": "code",
      "metadata": {
        "id": "n9mvnhRGxzm0",
        "colab_type": "code",
        "colab": {
          "base_uri": "https://localhost:8080/",
          "height": 34
        },
        "outputId": "225018a1-3416-44d3-9aec-5dd37d9e4172"
      },
      "source": [
        "# Check for skewness\n",
        "finance_df['household_size'].skew()"
      ],
      "execution_count": 23,
      "outputs": [
        {
          "output_type": "execute_result",
          "data": {
            "text/plain": [
              "0.9737983207814955"
            ]
          },
          "metadata": {
            "tags": []
          },
          "execution_count": 23
        }
      ]
    },
    {
      "cell_type": "code",
      "metadata": {
        "id": "pH_mPlx2yBdN",
        "colab_type": "code",
        "colab": {
          "base_uri": "https://localhost:8080/",
          "height": 34
        },
        "outputId": "89c1d3d0-f0a8-4b43-daba-afc665974462"
      },
      "source": [
        "# Check for kurtosis\n",
        "finance_df['household_size'].kurt()"
      ],
      "execution_count": 24,
      "outputs": [
        {
          "output_type": "execute_result",
          "data": {
            "text/plain": [
              "1.1530073057375057"
            ]
          },
          "metadata": {
            "tags": []
          },
          "execution_count": 24
        }
      ]
    },
    {
      "cell_type": "markdown",
      "metadata": {
        "id": "bZ3JrD0CyctD",
        "colab_type": "text"
      },
      "source": [
        "Household variable has a moderate positive skewness. Values range mostly between 0 and 5. The distribution is also platykurtic thus no outliers."
      ]
    },
    {
      "cell_type": "code",
      "metadata": {
        "id": "orBkoFVMyMU_",
        "colab_type": "code",
        "colab": {}
      },
      "source": [
        "# Check for outliers\n",
        "num_financial = finance_df[['household_size','Respondent Age']]\n",
        "Q1 = num_financial.quantile(0.25)\n",
        "Q3 = num_financial.quantile(0.75)\n",
        "IQR = Q3 -Q1"
      ],
      "execution_count": 25,
      "outputs": []
    },
    {
      "cell_type": "code",
      "metadata": {
        "id": "LtUKR-3J7em1",
        "colab_type": "code",
        "colab": {
          "base_uri": "https://localhost:8080/",
          "height": 606
        },
        "outputId": "f4cf445c-4cfd-411b-e0a3-5bf9cdf8ad26"
      },
      "source": [
        "# Get rows with outliers\n",
        "outliers = num_financial[(num_financial < (Q1 - 1.5 * IQR))|(num_financial > (Q3 + 1.5 * IQR))].any(axis=1)\n",
        "index = outliers[outliers.values == True].index\n",
        "finance_df[finance_df.index.isin(index)]"
      ],
      "execution_count": 26,
      "outputs": [
        {
          "output_type": "execute_result",
          "data": {
            "text/html": [
              "<div>\n",
              "<style scoped>\n",
              "    .dataframe tbody tr th:only-of-type {\n",
              "        vertical-align: middle;\n",
              "    }\n",
              "\n",
              "    .dataframe tbody tr th {\n",
              "        vertical-align: top;\n",
              "    }\n",
              "\n",
              "    .dataframe thead th {\n",
              "        text-align: right;\n",
              "    }\n",
              "</style>\n",
              "<table border=\"1\" class=\"dataframe\">\n",
              "  <thead>\n",
              "    <tr style=\"text-align: right;\">\n",
              "      <th></th>\n",
              "      <th>country</th>\n",
              "      <th>year</th>\n",
              "      <th>Has a Bank account</th>\n",
              "      <th>Type of Location</th>\n",
              "      <th>Cell Phone Access</th>\n",
              "      <th>household_size</th>\n",
              "      <th>Respondent Age</th>\n",
              "      <th>gender_of_respondent</th>\n",
              "      <th>The relathip with head</th>\n",
              "      <th>marital_status</th>\n",
              "      <th>Level of Educuation</th>\n",
              "      <th>Type of Job</th>\n",
              "    </tr>\n",
              "  </thead>\n",
              "  <tbody>\n",
              "    <tr>\n",
              "      <th>34</th>\n",
              "      <td>Kenya</td>\n",
              "      <td>2018</td>\n",
              "      <td>No</td>\n",
              "      <td>Rural</td>\n",
              "      <td>Yes</td>\n",
              "      <td>10.0</td>\n",
              "      <td>42.0</td>\n",
              "      <td>Female</td>\n",
              "      <td>Spouse</td>\n",
              "      <td>Married/Living together</td>\n",
              "      <td>Primary education</td>\n",
              "      <td>Farming and Fishing</td>\n",
              "    </tr>\n",
              "    <tr>\n",
              "      <th>58</th>\n",
              "      <td>Kenya</td>\n",
              "      <td>2018</td>\n",
              "      <td>No</td>\n",
              "      <td>Rural</td>\n",
              "      <td>Yes</td>\n",
              "      <td>11.0</td>\n",
              "      <td>21.0</td>\n",
              "      <td>Male</td>\n",
              "      <td>Child</td>\n",
              "      <td>Single/Never Married</td>\n",
              "      <td>Other/Dont know/RTA</td>\n",
              "      <td>Informally employed</td>\n",
              "    </tr>\n",
              "    <tr>\n",
              "      <th>92</th>\n",
              "      <td>Kenya</td>\n",
              "      <td>2018</td>\n",
              "      <td>Yes</td>\n",
              "      <td>Urban</td>\n",
              "      <td>Yes</td>\n",
              "      <td>10.0</td>\n",
              "      <td>21.0</td>\n",
              "      <td>Female</td>\n",
              "      <td>Parent</td>\n",
              "      <td>Single/Never Married</td>\n",
              "      <td>Tertiary education</td>\n",
              "      <td>Remittance Dependent</td>\n",
              "    </tr>\n",
              "    <tr>\n",
              "      <th>100</th>\n",
              "      <td>Kenya</td>\n",
              "      <td>2018</td>\n",
              "      <td>No</td>\n",
              "      <td>Urban</td>\n",
              "      <td>Yes</td>\n",
              "      <td>10.0</td>\n",
              "      <td>23.0</td>\n",
              "      <td>Female</td>\n",
              "      <td>Other relative</td>\n",
              "      <td>Divorced/Seperated</td>\n",
              "      <td>Primary education</td>\n",
              "      <td>Formally employed Private</td>\n",
              "    </tr>\n",
              "    <tr>\n",
              "      <th>209</th>\n",
              "      <td>Kenya</td>\n",
              "      <td>2018</td>\n",
              "      <td>No</td>\n",
              "      <td>Rural</td>\n",
              "      <td>No</td>\n",
              "      <td>3.0</td>\n",
              "      <td>95.0</td>\n",
              "      <td>Female</td>\n",
              "      <td>Parent</td>\n",
              "      <td>Widowed</td>\n",
              "      <td>No formal education</td>\n",
              "      <td>Informally employed</td>\n",
              "    </tr>\n",
              "    <tr>\n",
              "      <th>...</th>\n",
              "      <td>...</td>\n",
              "      <td>...</td>\n",
              "      <td>...</td>\n",
              "      <td>...</td>\n",
              "      <td>...</td>\n",
              "      <td>...</td>\n",
              "      <td>...</td>\n",
              "      <td>...</td>\n",
              "      <td>...</td>\n",
              "      <td>...</td>\n",
              "      <td>...</td>\n",
              "      <td>...</td>\n",
              "    </tr>\n",
              "    <tr>\n",
              "      <th>23461</th>\n",
              "      <td>Uganda</td>\n",
              "      <td>2018</td>\n",
              "      <td>No</td>\n",
              "      <td>Urban</td>\n",
              "      <td>Yes</td>\n",
              "      <td>13.0</td>\n",
              "      <td>25.0</td>\n",
              "      <td>Female</td>\n",
              "      <td>Spouse</td>\n",
              "      <td>Married/Living together</td>\n",
              "      <td>Primary education</td>\n",
              "      <td>Dont Know/Refuse to answer</td>\n",
              "    </tr>\n",
              "    <tr>\n",
              "      <th>23468</th>\n",
              "      <td>Uganda</td>\n",
              "      <td>2018</td>\n",
              "      <td>No</td>\n",
              "      <td>Urban</td>\n",
              "      <td>Yes</td>\n",
              "      <td>12.0</td>\n",
              "      <td>42.0</td>\n",
              "      <td>Male</td>\n",
              "      <td>Head of Household</td>\n",
              "      <td>Married/Living together</td>\n",
              "      <td>Primary education</td>\n",
              "      <td>Self employed</td>\n",
              "    </tr>\n",
              "    <tr>\n",
              "      <th>23471</th>\n",
              "      <td>Uganda</td>\n",
              "      <td>2018</td>\n",
              "      <td>No</td>\n",
              "      <td>Rural</td>\n",
              "      <td>Yes</td>\n",
              "      <td>15.0</td>\n",
              "      <td>17.0</td>\n",
              "      <td>Female</td>\n",
              "      <td>Other relative</td>\n",
              "      <td>Married/Living together</td>\n",
              "      <td>Secondary education</td>\n",
              "      <td>Self employed</td>\n",
              "    </tr>\n",
              "    <tr>\n",
              "      <th>23482</th>\n",
              "      <td>Uganda</td>\n",
              "      <td>2018</td>\n",
              "      <td>No</td>\n",
              "      <td>Rural</td>\n",
              "      <td>No</td>\n",
              "      <td>10.0</td>\n",
              "      <td>18.0</td>\n",
              "      <td>Female</td>\n",
              "      <td>Parent</td>\n",
              "      <td>Married/Living together</td>\n",
              "      <td>Secondary education</td>\n",
              "      <td>Self employed</td>\n",
              "    </tr>\n",
              "    <tr>\n",
              "      <th>23523</th>\n",
              "      <td>Uganda</td>\n",
              "      <td>2018</td>\n",
              "      <td>No</td>\n",
              "      <td>Rural</td>\n",
              "      <td>Yes</td>\n",
              "      <td>10.0</td>\n",
              "      <td>20.0</td>\n",
              "      <td>Male</td>\n",
              "      <td>Child</td>\n",
              "      <td>Single/Never Married</td>\n",
              "      <td>Secondary education</td>\n",
              "      <td>No Income</td>\n",
              "    </tr>\n",
              "  </tbody>\n",
              "</table>\n",
              "<p>613 rows × 12 columns</p>\n",
              "</div>"
            ],
            "text/plain": [
              "      country  year  ...  Level of Educuation                 Type of Job\n",
              "34      Kenya  2018  ...    Primary education         Farming and Fishing\n",
              "58      Kenya  2018  ...  Other/Dont know/RTA         Informally employed\n",
              "92      Kenya  2018  ...   Tertiary education        Remittance Dependent\n",
              "100     Kenya  2018  ...    Primary education   Formally employed Private\n",
              "209     Kenya  2018  ...  No formal education         Informally employed\n",
              "...       ...   ...  ...                  ...                         ...\n",
              "23461  Uganda  2018  ...    Primary education  Dont Know/Refuse to answer\n",
              "23468  Uganda  2018  ...    Primary education               Self employed\n",
              "23471  Uganda  2018  ...  Secondary education               Self employed\n",
              "23482  Uganda  2018  ...  Secondary education               Self employed\n",
              "23523  Uganda  2018  ...  Secondary education                   No Income\n",
              "\n",
              "[613 rows x 12 columns]"
            ]
          },
          "metadata": {
            "tags": []
          },
          "execution_count": 26
        }
      ]
    },
    {
      "cell_type": "markdown",
      "metadata": {
        "id": "ekEifkIU_S43",
        "colab_type": "text"
      },
      "source": [
        "- Data considered outliers using the interquantile range method seems feasible and thus will not be dropped"
      ]
    },
    {
      "cell_type": "code",
      "metadata": {
        "id": "tL20ccv07hwp",
        "colab_type": "code",
        "colab": {
          "base_uri": "https://localhost:8080/",
          "height": 1000
        },
        "outputId": "9076f09f-c035-4e0b-f9f1-bdd1798b3bf6"
      },
      "source": [
        "# Get frequency distributions for categorical variables\n",
        "cat_financial = finance_df.select_dtypes(include='object').columns.to_list()\n",
        "for col in cat_financial:\n",
        "  print(f'Column: {col}')\n",
        "  print(finance_df[col].value_counts().sort_values(ascending=False))\n",
        "  print('**********')\n",
        "  print('\\n')"
      ],
      "execution_count": 27,
      "outputs": [
        {
          "output_type": "stream",
          "text": [
            "Column: country\n",
            "Rwanda      8665\n",
            "Tanzania    6497\n",
            "Kenya       6062\n",
            "Uganda      2089\n",
            "Name: country, dtype: int64\n",
            "**********\n",
            "\n",
            "\n",
            "Column: Has a Bank account\n",
            "No     20022\n",
            "Yes     3291\n",
            "Name: Has a Bank account, dtype: int64\n",
            "**********\n",
            "\n",
            "\n",
            "Column: Type of Location\n",
            "Rural    14247\n",
            "Urban     9066\n",
            "Name: Type of Location, dtype: int64\n",
            "**********\n",
            "\n",
            "\n",
            "Column: Cell Phone Access\n",
            "Yes    17315\n",
            "No      5998\n",
            "Name: Cell Phone Access, dtype: int64\n",
            "**********\n",
            "\n",
            "\n",
            "Column: gender_of_respondent\n",
            "Female    13748\n",
            "Male       9565\n",
            "Name: gender_of_respondent, dtype: int64\n",
            "**********\n",
            "\n",
            "\n",
            "Column: The relathip with head\n",
            "Head of Household      12714\n",
            "Spouse                  6459\n",
            "Child                   2221\n",
            "Parent                  1069\n",
            "Other relative           661\n",
            "Other non-relatives      189\n",
            "Name: The relathip with head, dtype: int64\n",
            "**********\n",
            "\n",
            "\n",
            "Column: marital_status\n",
            "Married/Living together    10682\n",
            "Single/Never Married        7899\n",
            "Widowed                     2677\n",
            "Divorced/Seperated          2047\n",
            "Dont know                      8\n",
            "Name: marital_status, dtype: int64\n",
            "**********\n",
            "\n",
            "\n",
            "Column: Level of Educuation\n",
            "Primary education                  12688\n",
            "No formal education                 4467\n",
            "Secondary education                 4206\n",
            "Tertiary education                  1143\n",
            "Vocational/Specialised training      801\n",
            "Other/Dont know/RTA                    8\n",
            "Name: Level of Educuation, dtype: int64\n",
            "**********\n",
            "\n",
            "\n",
            "Column: Type of Job\n",
            "Self employed                   6357\n",
            "Informally employed             5534\n",
            "Farming and Fishing             5422\n",
            "Remittance Dependent            2506\n",
            "Other Income                    1076\n",
            "Formally employed Private       1046\n",
            "No Income                        615\n",
            "Formally employed Government     386\n",
            "Government Dependent             246\n",
            "Dont Know/Refuse to answer       125\n",
            "Name: Type of Job, dtype: int64\n",
            "**********\n",
            "\n",
            "\n"
          ],
          "name": "stdout"
        }
      ]
    },
    {
      "cell_type": "markdown",
      "metadata": {
        "id": "RI1XrcvWBV24",
        "colab_type": "text"
      },
      "source": [
        "### Bivariate Analysis"
      ]
    },
    {
      "cell_type": "code",
      "metadata": {
        "id": "AeXfCIBoAJVc",
        "colab_type": "code",
        "colab": {
          "base_uri": "https://localhost:8080/",
          "height": 438
        },
        "outputId": "1a9f9199-48bf-46e3-bbd8-100ba31a06e6"
      },
      "source": [
        "# Determine correlation between numeric features\n",
        "plt.figure(figsize=(12,10))\n",
        "sns.pairplot(finance_df[['household_size','Respondent Age']])\n",
        "plt.title('Respondent Age vs Household Size')"
      ],
      "execution_count": 28,
      "outputs": [
        {
          "output_type": "execute_result",
          "data": {
            "text/plain": [
              "Text(0.5, 1.0, 'Respondent Age vs Household Size')"
            ]
          },
          "metadata": {
            "tags": []
          },
          "execution_count": 28
        },
        {
          "output_type": "display_data",
          "data": {
            "text/plain": [
              "<Figure size 864x720 with 0 Axes>"
            ]
          },
          "metadata": {
            "tags": []
          }
        },
        {
          "output_type": "display_data",
          "data": {
            "image/png": "[encoded data removed]",
            "text/plain": [
              "<Figure size 360x360 with 6 Axes>"
            ]
          },
          "metadata": {
            "tags": [],
            "needs_background": "light"
          }
        }
      ]
    },
    {
      "cell_type": "code",
      "metadata": {
        "id": "MxPqHrhqCM6R",
        "colab_type": "code",
        "colab": {
          "base_uri": "https://localhost:8080/",
          "height": 34
        },
        "outputId": "ab70cc9e-9517-4ca4-f065-5ac374d048a6"
      },
      "source": [
        "finance_df['Respondent Age'].corr(finance_df['household_size'])"
      ],
      "execution_count": 29,
      "outputs": [
        {
          "output_type": "execute_result",
          "data": {
            "text/plain": [
              "-0.11918485538538871"
            ]
          },
          "metadata": {
            "tags": []
          },
          "execution_count": 29
        }
      ]
    },
    {
      "cell_type": "markdown",
      "metadata": {
        "id": "iyxNSEiHC_Wq",
        "colab_type": "text"
      },
      "source": [
        "From the scatter plot and pearsons correlation, there is very weak negative correlation between respondent age and household size"
      ]
    },
    {
      "cell_type": "code",
      "metadata": {
        "id": "H9Ldl7cJC9NH",
        "colab_type": "code",
        "colab": {
          "base_uri": "https://localhost:8080/",
          "height": 171
        },
        "outputId": "e33a7842-3593-44bc-b3f3-63367042db27"
      },
      "source": [
        "# Investigate relationship between type of job and if the respondent has a bank account or not\n",
        "table_job = pd.crosstab(finance_df['Has a Bank account'], finance_df['Type of Job'])\n",
        "table_job"
      ],
      "execution_count": 30,
      "outputs": [
        {
          "output_type": "execute_result",
          "data": {
            "text/html": [
              "<div>\n",
              "<style scoped>\n",
              "    .dataframe tbody tr th:only-of-type {\n",
              "        vertical-align: middle;\n",
              "    }\n",
              "\n",
              "    .dataframe tbody tr th {\n",
              "        vertical-align: top;\n",
              "    }\n",
              "\n",
              "    .dataframe thead th {\n",
              "        text-align: right;\n",
              "    }\n",
              "</style>\n",
              "<table border=\"1\" class=\"dataframe\">\n",
              "  <thead>\n",
              "    <tr style=\"text-align: right;\">\n",
              "      <th>Type of Job</th>\n",
              "      <th>Dont Know/Refuse to answer</th>\n",
              "      <th>Farming and Fishing</th>\n",
              "      <th>Formally employed Government</th>\n",
              "      <th>Formally employed Private</th>\n",
              "      <th>Government Dependent</th>\n",
              "      <th>Informally employed</th>\n",
              "      <th>No Income</th>\n",
              "      <th>Other Income</th>\n",
              "      <th>Remittance Dependent</th>\n",
              "      <th>Self employed</th>\n",
              "    </tr>\n",
              "    <tr>\n",
              "      <th>Has a Bank account</th>\n",
              "      <th></th>\n",
              "      <th></th>\n",
              "      <th></th>\n",
              "      <th></th>\n",
              "      <th></th>\n",
              "      <th></th>\n",
              "      <th></th>\n",
              "      <th></th>\n",
              "      <th></th>\n",
              "      <th></th>\n",
              "    </tr>\n",
              "  </thead>\n",
              "  <tbody>\n",
              "    <tr>\n",
              "      <th>No</th>\n",
              "      <td>111</td>\n",
              "      <td>4788</td>\n",
              "      <td>87</td>\n",
              "      <td>480</td>\n",
              "      <td>197</td>\n",
              "      <td>5096</td>\n",
              "      <td>602</td>\n",
              "      <td>881</td>\n",
              "      <td>2267</td>\n",
              "      <td>5513</td>\n",
              "    </tr>\n",
              "    <tr>\n",
              "      <th>Yes</th>\n",
              "      <td>14</td>\n",
              "      <td>634</td>\n",
              "      <td>299</td>\n",
              "      <td>566</td>\n",
              "      <td>49</td>\n",
              "      <td>438</td>\n",
              "      <td>13</td>\n",
              "      <td>195</td>\n",
              "      <td>239</td>\n",
              "      <td>844</td>\n",
              "    </tr>\n",
              "  </tbody>\n",
              "</table>\n",
              "</div>"
            ],
            "text/plain": [
              "Type of Job         Dont Know/Refuse to answer  ...  Self employed\n",
              "Has a Bank account                              ...               \n",
              "No                                         111  ...           5513\n",
              "Yes                                         14  ...            844\n",
              "\n",
              "[2 rows x 10 columns]"
            ]
          },
          "metadata": {
            "tags": []
          },
          "execution_count": 30
        }
      ]
    },
    {
      "cell_type": "markdown",
      "metadata": {
        "id": "tXNZRkqqI9dO",
        "colab_type": "text"
      },
      "source": [
        "To test relationship between type of job and if the respondent has a bank account or not.\n",
        "\n",
        "- Null Hypothesis : Type of job has no influence on if an individual has a bank account or not\n",
        "- Alternative Hypothesis : Type of job influences on if an individual has a bank account or not"
      ]
    },
    {
      "cell_type": "code",
      "metadata": {
        "id": "lcbTkByJHzEz",
        "colab_type": "code",
        "colab": {
          "base_uri": "https://localhost:8080/",
          "height": 52
        },
        "outputId": "d6a6ec6f-3b13-4893-a4b0-f33cf82d6152"
      },
      "source": [
        "# Perform chi-square test\n",
        "from scipy.stats import chi2_contingency\n",
        "from scipy.stats import chi2\n",
        "\n",
        "stat, p, dof, expected = chi2_contingency(table_job.to_numpy())\n",
        "\n",
        "#Calculate critical value, set significance level = 0.05\n",
        "prob = 0.95\n",
        "critical_value = chi2.ppf(prob, dof)\n",
        "\n",
        "print(f'Propability: {prob}, Critical value: {critical_value}, Test statistic: {stat}')\n",
        "print(f'Alpha: {1-prob}, p-value: {p: .5f}')"
      ],
      "execution_count": 31,
      "outputs": [
        {
          "output_type": "stream",
          "text": [
            "Propability: 0.95, Critical value: 16.918977604620448, Test statistic: 3001.462721258616\n",
            "Alpha: 0.050000000000000044, p-value:  0.00000\n"
          ],
          "name": "stdout"
        }
      ]
    },
    {
      "cell_type": "markdown",
      "metadata": {
        "id": "wOYJT2-GOwJM",
        "colab_type": "text"
      },
      "source": [
        "p-value less than alpha, thus significant evidence to reject null hypothesis"
      ]
    },
    {
      "cell_type": "code",
      "metadata": {
        "id": "QDETCYaC3WQT",
        "colab_type": "code",
        "colab": {
          "base_uri": "https://localhost:8080/",
          "height": 137
        },
        "outputId": "3becc891-4956-47dd-ad71-bed074be6e4e"
      },
      "source": [
        "# Investigate relationship between level of education and if the respondent has a bank account or not\n",
        "table_edu = pd.crosstab(finance_df['Has a Bank account'], finance_df['Level of Educuation'])\n",
        "table_edu"
      ],
      "execution_count": 32,
      "outputs": [
        {
          "output_type": "execute_result",
          "data": {
            "text/html": [
              "<div>\n",
              "<style scoped>\n",
              "    .dataframe tbody tr th:only-of-type {\n",
              "        vertical-align: middle;\n",
              "    }\n",
              "\n",
              "    .dataframe tbody tr th {\n",
              "        vertical-align: top;\n",
              "    }\n",
              "\n",
              "    .dataframe thead th {\n",
              "        text-align: right;\n",
              "    }\n",
              "</style>\n",
              "<table border=\"1\" class=\"dataframe\">\n",
              "  <thead>\n",
              "    <tr style=\"text-align: right;\">\n",
              "      <th>Level of Educuation</th>\n",
              "      <th>No formal education</th>\n",
              "      <th>Other/Dont know/RTA</th>\n",
              "      <th>Primary education</th>\n",
              "      <th>Secondary education</th>\n",
              "      <th>Tertiary education</th>\n",
              "      <th>Vocational/Specialised training</th>\n",
              "    </tr>\n",
              "    <tr>\n",
              "      <th>Has a Bank account</th>\n",
              "      <th></th>\n",
              "      <th></th>\n",
              "      <th></th>\n",
              "      <th></th>\n",
              "      <th></th>\n",
              "      <th></th>\n",
              "    </tr>\n",
              "  </thead>\n",
              "  <tbody>\n",
              "    <tr>\n",
              "      <th>No</th>\n",
              "      <td>4291</td>\n",
              "      <td>2</td>\n",
              "      <td>11605</td>\n",
              "      <td>3225</td>\n",
              "      <td>554</td>\n",
              "      <td>345</td>\n",
              "    </tr>\n",
              "    <tr>\n",
              "      <th>Yes</th>\n",
              "      <td>176</td>\n",
              "      <td>6</td>\n",
              "      <td>1083</td>\n",
              "      <td>981</td>\n",
              "      <td>589</td>\n",
              "      <td>456</td>\n",
              "    </tr>\n",
              "  </tbody>\n",
              "</table>\n",
              "</div>"
            ],
            "text/plain": [
              "Level of Educuation  No formal education  ...  Vocational/Specialised training\n",
              "Has a Bank account                        ...                                 \n",
              "No                                  4291  ...                              345\n",
              "Yes                                  176  ...                              456\n",
              "\n",
              "[2 rows x 6 columns]"
            ]
          },
          "metadata": {
            "tags": []
          },
          "execution_count": 32
        }
      ]
    },
    {
      "cell_type": "markdown",
      "metadata": {
        "id": "qwOjQEvL3zv5",
        "colab_type": "text"
      },
      "source": [
        "The number of respondents with no bank account and other education level is 2, hence it's not possible to perform the chi-square test as it requires at least 5 per cell"
      ]
    },
    {
      "cell_type": "code",
      "metadata": {
        "id": "iauG1E7SLVZK",
        "colab_type": "code",
        "colab": {
          "base_uri": "https://localhost:8080/",
          "height": 137
        },
        "outputId": "60459c3c-9927-4a74-dec5-dcf38869e60c"
      },
      "source": [
        "# Investigate relationship between type of location and if the respondent has a bank account or not\n",
        "table_loc = pd.crosstab(finance_df['Has a Bank account'], finance_df['Type of Location'])\n",
        "table_loc"
      ],
      "execution_count": 33,
      "outputs": [
        {
          "output_type": "execute_result",
          "data": {
            "text/html": [
              "<div>\n",
              "<style scoped>\n",
              "    .dataframe tbody tr th:only-of-type {\n",
              "        vertical-align: middle;\n",
              "    }\n",
              "\n",
              "    .dataframe tbody tr th {\n",
              "        vertical-align: top;\n",
              "    }\n",
              "\n",
              "    .dataframe thead th {\n",
              "        text-align: right;\n",
              "    }\n",
              "</style>\n",
              "<table border=\"1\" class=\"dataframe\">\n",
              "  <thead>\n",
              "    <tr style=\"text-align: right;\">\n",
              "      <th>Type of Location</th>\n",
              "      <th>Rural</th>\n",
              "      <th>Urban</th>\n",
              "    </tr>\n",
              "    <tr>\n",
              "      <th>Has a Bank account</th>\n",
              "      <th></th>\n",
              "      <th></th>\n",
              "    </tr>\n",
              "  </thead>\n",
              "  <tbody>\n",
              "    <tr>\n",
              "      <th>No</th>\n",
              "      <td>12586</td>\n",
              "      <td>7436</td>\n",
              "    </tr>\n",
              "    <tr>\n",
              "      <th>Yes</th>\n",
              "      <td>1661</td>\n",
              "      <td>1630</td>\n",
              "    </tr>\n",
              "  </tbody>\n",
              "</table>\n",
              "</div>"
            ],
            "text/plain": [
              "Type of Location    Rural  Urban\n",
              "Has a Bank account              \n",
              "No                  12586   7436\n",
              "Yes                  1661   1630"
            ]
          },
          "metadata": {
            "tags": []
          },
          "execution_count": 33
        }
      ]
    },
    {
      "cell_type": "markdown",
      "metadata": {
        "id": "1pltFcxoPtDC",
        "colab_type": "text"
      },
      "source": [
        "To test relationship between type of location and if the respondent has a bank account or not.\n",
        "\n",
        "- Null Hypothesis : Type of location does not influence if an individual has a bank account or not\n",
        "- Alternative Hypothesis : Type of location influences if an individual has a bank account or not"
      ]
    },
    {
      "cell_type": "code",
      "metadata": {
        "id": "aBHI9aYGPqdA",
        "colab_type": "code",
        "colab": {
          "base_uri": "https://localhost:8080/",
          "height": 52
        },
        "outputId": "95b36f6a-b10d-4d9e-959a-a8c11bf78262"
      },
      "source": [
        "stat, p, dof, expected = chi2_contingency(table_loc.to_numpy())\n",
        "\n",
        "#Calculate critical value, set significance level = 0.05\n",
        "prob = 0.95\n",
        "critical_value = chi2.ppf(prob, dof)\n",
        "\n",
        "print(f'Propability: {prob}, Critical value: {critical_value}, Test statistic: {stat}')\n",
        "print(f'Alpha: {1-prob}, p-value: {p:.5f}')"
      ],
      "execution_count": 34,
      "outputs": [
        {
          "output_type": "stream",
          "text": [
            "Propability: 0.95, Critical value: 3.841458820694124, Test statistic: 182.04842311728328\n",
            "Alpha: 0.050000000000000044, p-value: 0.00000\n"
          ],
          "name": "stdout"
        }
      ]
    },
    {
      "cell_type": "markdown",
      "metadata": {
        "id": "DMlise-BRpYV",
        "colab_type": "text"
      },
      "source": [
        "p-value less than alpha, thus significant evidence to reject null hypothesis"
      ]
    },
    {
      "cell_type": "code",
      "metadata": {
        "id": "uL-1C-9pQccL",
        "colab_type": "code",
        "colab": {
          "base_uri": "https://localhost:8080/",
          "height": 137
        },
        "outputId": "0f298e10-68ce-46f5-d42f-88bd26918c19"
      },
      "source": [
        "# Investigate relationship between cell phone access and if the respondent has a bank account or not\n",
        "table_cell = pd.crosstab(finance_df['Has a Bank account'], finance_df['Cell Phone Access'])\n",
        "table_cell"
      ],
      "execution_count": 35,
      "outputs": [
        {
          "output_type": "execute_result",
          "data": {
            "text/html": [
              "<div>\n",
              "<style scoped>\n",
              "    .dataframe tbody tr th:only-of-type {\n",
              "        vertical-align: middle;\n",
              "    }\n",
              "\n",
              "    .dataframe tbody tr th {\n",
              "        vertical-align: top;\n",
              "    }\n",
              "\n",
              "    .dataframe thead th {\n",
              "        text-align: right;\n",
              "    }\n",
              "</style>\n",
              "<table border=\"1\" class=\"dataframe\">\n",
              "  <thead>\n",
              "    <tr style=\"text-align: right;\">\n",
              "      <th>Cell Phone Access</th>\n",
              "      <th>No</th>\n",
              "      <th>Yes</th>\n",
              "    </tr>\n",
              "    <tr>\n",
              "      <th>Has a Bank account</th>\n",
              "      <th></th>\n",
              "      <th></th>\n",
              "    </tr>\n",
              "  </thead>\n",
              "  <tbody>\n",
              "    <tr>\n",
              "      <th>No</th>\n",
              "      <td>5894</td>\n",
              "      <td>14128</td>\n",
              "    </tr>\n",
              "    <tr>\n",
              "      <th>Yes</th>\n",
              "      <td>104</td>\n",
              "      <td>3187</td>\n",
              "    </tr>\n",
              "  </tbody>\n",
              "</table>\n",
              "</div>"
            ],
            "text/plain": [
              "Cell Phone Access     No    Yes\n",
              "Has a Bank account             \n",
              "No                  5894  14128\n",
              "Yes                  104   3187"
            ]
          },
          "metadata": {
            "tags": []
          },
          "execution_count": 35
        }
      ]
    },
    {
      "cell_type": "markdown",
      "metadata": {
        "id": "5tzQU9yySQFM",
        "colab_type": "text"
      },
      "source": [
        "To test relationship between cell phone access and if the respondent has a bank account or not.\n",
        "\n",
        "- Null Hypothesis : Cell phone access has no influence on if an individual has a bank account or not\n",
        "- Alternative Hypothesis : Cell phone access has influence on if an individual has a bank account or not"
      ]
    },
    {
      "cell_type": "code",
      "metadata": {
        "id": "1DBmEdhGSMYc",
        "colab_type": "code",
        "colab": {
          "base_uri": "https://localhost:8080/",
          "height": 52
        },
        "outputId": "26fb0881-4ff6-4358-e9bc-f01d1997eb9d"
      },
      "source": [
        "stat, p, dof, expected = chi2_contingency(table_cell.to_numpy())\n",
        "\n",
        "#Calculate critical value, set significance level = 0.05\n",
        "prob = 0.95\n",
        "critical_value = chi2.ppf(prob, dof)\n",
        "\n",
        "print(f'Propability: {prob}, Critical value: {critical_value}, Test statistic: {stat}')\n",
        "print(f'Alpha: {1-prob}, p-value: {p}')"
      ],
      "execution_count": 36,
      "outputs": [
        {
          "output_type": "stream",
          "text": [
            "Propability: 0.95, Critical value: 3.841458820694124, Test statistic: 1019.9695325610875\n",
            "Alpha: 0.050000000000000044, p-value: 8.196941932584429e-224\n"
          ],
          "name": "stdout"
        }
      ]
    },
    {
      "cell_type": "markdown",
      "metadata": {
        "id": "bTjv0F7DS2BC",
        "colab_type": "text"
      },
      "source": [
        "p-value less than alpha, thus significant evidence to reject null hypothesis"
      ]
    },
    {
      "cell_type": "code",
      "metadata": {
        "id": "rqtyn_vESqc4",
        "colab_type": "code",
        "colab": {
          "base_uri": "https://localhost:8080/",
          "height": 137
        },
        "outputId": "8dbbf1fd-7388-4fe8-e326-ce1ca03f3f9f"
      },
      "source": [
        "# Investigate relationship between gender and if the respondent has a bank account or not\n",
        "table_gender = pd.crosstab(finance_df['Has a Bank account'], finance_df['gender_of_respondent'])\n",
        "table_gender"
      ],
      "execution_count": 37,
      "outputs": [
        {
          "output_type": "execute_result",
          "data": {
            "text/html": [
              "<div>\n",
              "<style scoped>\n",
              "    .dataframe tbody tr th:only-of-type {\n",
              "        vertical-align: middle;\n",
              "    }\n",
              "\n",
              "    .dataframe tbody tr th {\n",
              "        vertical-align: top;\n",
              "    }\n",
              "\n",
              "    .dataframe thead th {\n",
              "        text-align: right;\n",
              "    }\n",
              "</style>\n",
              "<table border=\"1\" class=\"dataframe\">\n",
              "  <thead>\n",
              "    <tr style=\"text-align: right;\">\n",
              "      <th>gender_of_respondent</th>\n",
              "      <th>Female</th>\n",
              "      <th>Male</th>\n",
              "    </tr>\n",
              "    <tr>\n",
              "      <th>Has a Bank account</th>\n",
              "      <th></th>\n",
              "      <th></th>\n",
              "    </tr>\n",
              "  </thead>\n",
              "  <tbody>\n",
              "    <tr>\n",
              "      <th>No</th>\n",
              "      <td>12271</td>\n",
              "      <td>7751</td>\n",
              "    </tr>\n",
              "    <tr>\n",
              "      <th>Yes</th>\n",
              "      <td>1477</td>\n",
              "      <td>1814</td>\n",
              "    </tr>\n",
              "  </tbody>\n",
              "</table>\n",
              "</div>"
            ],
            "text/plain": [
              "gender_of_respondent  Female  Male\n",
              "Has a Bank account                \n",
              "No                     12271  7751\n",
              "Yes                     1477  1814"
            ]
          },
          "metadata": {
            "tags": []
          },
          "execution_count": 37
        }
      ]
    },
    {
      "cell_type": "markdown",
      "metadata": {
        "id": "8eL9PjkpTWof",
        "colab_type": "text"
      },
      "source": [
        "To test relationship between gender and if the respondent has a bank account or not.\n",
        "\n",
        "- Null Hypothesis : Gender has no influence if an individual has a bank account or not\n",
        "- Alternative Hypothesis : Gender influences if an individual has a bank account or not"
      ]
    },
    {
      "cell_type": "code",
      "metadata": {
        "id": "pazcR-ShTP2F",
        "colab_type": "code",
        "colab": {
          "base_uri": "https://localhost:8080/",
          "height": 52
        },
        "outputId": "79c5d3ed-02c0-4cb3-dacc-74ac499a677d"
      },
      "source": [
        "stat, p, dof, expected = chi2_contingency(table_gender.to_numpy())\n",
        "\n",
        "#Calculate critical value, set significance level = 0.05\n",
        "prob = 0.95\n",
        "critical_value = chi2.ppf(prob, dof)\n",
        "\n",
        "print(f'Propability: {prob}, Critical value: {critical_value}, Test statistic: {stat}')\n",
        "print(f'Alpha: {1-prob}, p-value: {p}')"
      ],
      "execution_count": 38,
      "outputs": [
        {
          "output_type": "stream",
          "text": [
            "Propability: 0.95, Critical value: 3.841458820694124, Test statistic: 313.80694734870315\n",
            "Alpha: 0.050000000000000044, p-value: 3.2353619819376854e-70\n"
          ],
          "name": "stdout"
        }
      ]
    },
    {
      "cell_type": "markdown",
      "metadata": {
        "id": "cemtiiWoTrNX",
        "colab_type": "text"
      },
      "source": [
        "p-value less than alpha, thus significant evidence to reject null hypothesis"
      ]
    },
    {
      "cell_type": "markdown",
      "metadata": {
        "id": "LSgXWpjOUQm7",
        "colab_type": "text"
      },
      "source": [
        "Investigate relationship between respondent age and if the respondent has a bank account or not.\n",
        "\n",
        "- H0: Respondent age does not influence if a respondent has a bank account or not\n",
        "- H1: Respondent age if a respondent has a bank account or not"
      ]
    },
    {
      "cell_type": "code",
      "metadata": {
        "id": "z79jWkNYTnG3",
        "colab_type": "code",
        "colab": {}
      },
      "source": [
        " # Sample 50 rows from financial data\n",
        " rand_sample = finance_df[['Respondent Age', 'Has a Bank account']].sample(n=50, random_state=1)\n"
      ],
      "execution_count": 39,
      "outputs": []
    },
    {
      "cell_type": "code",
      "metadata": {
        "id": "2b3LOpQMplzh",
        "colab_type": "code",
        "colab": {
          "base_uri": "https://localhost:8080/",
          "height": 34
        },
        "outputId": "928414d7-9606-4d70-84d9-8319e8778897"
      },
      "source": [
        "# Perform a two sample z test\n",
        "from statsmodels.stats.weightstats import ztest\n",
        "\n",
        "zscore, p = ztest(x1 = rand_sample[rand_sample['Has a Bank account']=='Yes']['Respondent Age'].values, x2=rand_sample[rand_sample['Has a Bank account']=='No']['Respondent Age'].values)\n",
        "print(f'Test statistic: {zscore}, p-value: {p}')"
      ],
      "execution_count": 40,
      "outputs": [
        {
          "output_type": "stream",
          "text": [
            "Test statistic: -0.46472550427617443, p-value: 0.6421280417379002\n"
          ],
          "name": "stdout"
        }
      ]
    },
    {
      "cell_type": "markdown",
      "metadata": {
        "id": "TAtT3HdLuGJ5",
        "colab_type": "text"
      },
      "source": [
        "P-value is greater than significance level of 0.05, hence we fail to reject the null hypothesis.\n"
      ]
    },
    {
      "cell_type": "markdown",
      "metadata": {
        "id": "YYpirBSpuZ7E",
        "colab_type": "text"
      },
      "source": [
        "Investigate relationship between household size and if the respondent has a bank account or not.\n",
        "\n",
        "- H0: Household size does not influence if a respondent has a bank account or not\n",
        "- H1: Household size influences if a respondent has a bank account or not"
      ]
    },
    {
      "cell_type": "code",
      "metadata": {
        "id": "-y-_t8X3rDn3",
        "colab_type": "code",
        "colab": {
          "base_uri": "https://localhost:8080/",
          "height": 34
        },
        "outputId": "c7a99464-b8c1-416a-97f1-ab63029fb36b"
      },
      "source": [
        " rand_sample_2 = finance_df[['household_size', 'Has a Bank account']].sample(n=50, random_state=1)\n",
        " zscore, p = ztest(x1 = rand_sample_2[rand_sample_2['Has a Bank account']=='Yes']['household_size'].values, x2=rand_sample_2[rand_sample_2['Has a Bank account']=='No']['household_size'].values)\n",
        "print(f'Test statistic: {zscore}, p-value: {p}')\n"
      ],
      "execution_count": 41,
      "outputs": [
        {
          "output_type": "stream",
          "text": [
            "Test statistic: -1.0379338770688056, p-value: 0.29930084036376947\n"
          ],
          "name": "stdout"
        }
      ]
    },
    {
      "cell_type": "markdown",
      "metadata": {
        "id": "-gYJ2ve1vuBv",
        "colab_type": "text"
      },
      "source": [
        "P-value is greater than significance level of 0.05, hence we fail to reject the null hypothesis.\n"
      ]
    },
    {
      "cell_type": "code",
      "metadata": {
        "id": "XLmpdYdcvWzz",
        "colab_type": "code",
        "colab": {
          "base_uri": "https://localhost:8080/",
          "height": 123
        },
        "outputId": "90cf6114-0d89-4e89-9bb4-0ed4166879e7"
      },
      "source": [
        "finance_df.groupby('Has a Bank account')['gender_of_respondent'].value_counts()"
      ],
      "execution_count": 42,
      "outputs": [
        {
          "output_type": "execute_result",
          "data": {
            "text/plain": [
              "Has a Bank account  gender_of_respondent\n",
              "No                  Female                  12271\n",
              "                    Male                     7751\n",
              "Yes                 Male                     1814\n",
              "                    Female                   1477\n",
              "Name: gender_of_respondent, dtype: int64"
            ]
          },
          "metadata": {
            "tags": []
          },
          "execution_count": 42
        }
      ]
    },
    {
      "cell_type": "code",
      "metadata": {
        "id": "Hwd-bOQQwNIQ",
        "colab_type": "code",
        "colab": {
          "base_uri": "https://localhost:8080/",
          "height": 644
        },
        "outputId": "ceaecfdb-bddc-4f68-b540-6579536c12d1"
      },
      "source": [
        "bank_status = ['Yes', 'No']\n",
        "women_number = [1477, 12271]\n",
        "men_number = [1814, 7751]\n",
        "x = [status for status in bank_status]\n",
        "plt.figure(figsize=(12,10))\n",
        "plt.bar(x, women_number, label='Women')\n",
        "plt.bar(x, men_number, label='Men', bottom=women_number)\n",
        "plt.title('Gender distribution on the bank account status')\n",
        "plt.legend()\n",
        "plt.xlabel('Has a bank account')"
      ],
      "execution_count": 43,
      "outputs": [
        {
          "output_type": "execute_result",
          "data": {
            "text/plain": [
              "Text(0.5, 0, 'Has a bank account')"
            ]
          },
          "metadata": {
            "tags": []
          },
          "execution_count": 43
        },
        {
          "output_type": "display_data",
          "data": {
            "image/png": "[encoded data removed]",
            "text/plain": [
              "<Figure size 864x720 with 1 Axes>"
            ]
          },
          "metadata": {
            "tags": [],
            "needs_background": "light"
          }
        }
      ]
    },
    {
      "cell_type": "markdown",
      "metadata": {
        "id": "GHihHpDe2l63",
        "colab_type": "text"
      },
      "source": [
        "The data is heavily imbalanced as depicted with most data points belonging to respondents with no bank account. A significantly larger percentage of women have no bank accounts\n"
      ]
    },
    {
      "cell_type": "code",
      "metadata": {
        "id": "EASQCh3gyDMA",
        "colab_type": "code",
        "colab": {
          "base_uri": "https://localhost:8080/",
          "height": 636
        },
        "outputId": "2fc5f827-4bd9-47fe-c593-f405528bdc27"
      },
      "source": [
        "pd.crosstab(finance_df['Has a Bank account'], finance_df['Level of Educuation']).plot(kind='bar', stacked=True, figsize=(12,10))"
      ],
      "execution_count": 44,
      "outputs": [
        {
          "output_type": "execute_result",
          "data": {
            "text/plain": [
              "<matplotlib.axes._subplots.AxesSubplot at 0x7f6b3df89be0>"
            ]
          },
          "metadata": {
            "tags": []
          },
          "execution_count": 44
        },
        {
          "output_type": "display_data",
          "data": {
            "image/png": "[encoded data removed]",
            "text/plain": [
              "<Figure size 864x720 with 1 Axes>"
            ]
          },
          "metadata": {
            "tags": [],
            "needs_background": "light"
          }
        }
      ]
    },
    {
      "cell_type": "markdown",
      "metadata": {
        "id": "duP1dbue5IuJ",
        "colab_type": "text"
      },
      "source": [
        "The biggest percentage of individuals with no bank account as well as individuals with a bank account have a primary education."
      ]
    },
    {
      "cell_type": "code",
      "metadata": {
        "id": "ZHWgVnDqzNr4",
        "colab_type": "code",
        "colab": {
          "base_uri": "https://localhost:8080/",
          "height": 636
        },
        "outputId": "68b2f75f-475f-43c9-d0d9-4c2cffd7cb19"
      },
      "source": [
        "pd.crosstab(finance_df['Has a Bank account'], finance_df['Type of Job']).plot(kind='bar',stacked=True, figsize=(12,10))"
      ],
      "execution_count": 45,
      "outputs": [
        {
          "output_type": "execute_result",
          "data": {
            "text/plain": [
              "<matplotlib.axes._subplots.AxesSubplot at 0x7f6b3dedcf28>"
            ]
          },
          "metadata": {
            "tags": []
          },
          "execution_count": 45
        },
        {
          "output_type": "display_data",
          "data": {
            "image/png": "[encoded data removed]",
            "text/plain": [
              "<Figure size 864x720 with 1 Axes>"
            ]
          },
          "metadata": {
            "tags": [],
            "needs_background": "light"
          }
        }
      ]
    },
    {
      "cell_type": "markdown",
      "metadata": {
        "id": "IJop5tWC6hf9",
        "colab_type": "text"
      },
      "source": [
        "Majority of individuals with a bank account are either self employed, have a formal private employment or participate in farming and fishing. Largest percentage of individuals with no bank account are self employed."
      ]
    },
    {
      "cell_type": "code",
      "metadata": {
        "id": "_M8qbCI56WEA",
        "colab_type": "code",
        "colab": {
          "base_uri": "https://localhost:8080/",
          "height": 636
        },
        "outputId": "964ff47a-e2e1-4b77-d1b2-061307981bd0"
      },
      "source": [
        "pd.crosstab(finance_df['Has a Bank account'], finance_df['marital_status']).plot(kind='bar', stacked=True, figsize=(12,10))"
      ],
      "execution_count": 46,
      "outputs": [
        {
          "output_type": "execute_result",
          "data": {
            "text/plain": [
              "<matplotlib.axes._subplots.AxesSubplot at 0x7f6b3de25198>"
            ]
          },
          "metadata": {
            "tags": []
          },
          "execution_count": 46
        },
        {
          "output_type": "display_data",
          "data": {
            "image/png": "[encoded data removed]",
            "text/plain": [
              "<Figure size 864x720 with 1 Axes>"
            ]
          },
          "metadata": {
            "tags": [],
            "needs_background": "light"
          }
        }
      ]
    },
    {
      "cell_type": "markdown",
      "metadata": {
        "id": "NKnOepL08Am9",
        "colab_type": "text"
      },
      "source": [
        "The largest percentage of individuals with bank accounts and without bank accounts are married/living together."
      ]
    },
    {
      "cell_type": "code",
      "metadata": {
        "id": "Qhn3mvg674sR",
        "colab_type": "code",
        "colab": {
          "base_uri": "https://localhost:8080/",
          "height": 628
        },
        "outputId": "d3f557e3-6660-4d07-91d0-b98c20219396"
      },
      "source": [
        "plt.figure(figsize=(12,10))\n",
        "sns.boxplot(x = 'Has a Bank account', y = 'Respondent Age', data=finance_df,showmeans=True)"
      ],
      "execution_count": 47,
      "outputs": [
        {
          "output_type": "execute_result",
          "data": {
            "text/plain": [
              "<matplotlib.axes._subplots.AxesSubplot at 0x7f6b3de07518>"
            ]
          },
          "metadata": {
            "tags": []
          },
          "execution_count": 47
        },
        {
          "output_type": "display_data",
          "data": {
            "image/png": "[encoded data removed]",
            "text/plain": [
              "<Figure size 864x720 with 1 Axes>"
            ]
          },
          "metadata": {
            "tags": [],
            "needs_background": "light"
          }
        }
      ]
    },
    {
      "cell_type": "markdown",
      "metadata": {
        "id": "NZLE2gUZ9vsB",
        "colab_type": "text"
      },
      "source": [
        "The distribution of ages is relatively similar for both categories. However the respondents with no bank accounts have a higher maximum age."
      ]
    },
    {
      "cell_type": "code",
      "metadata": {
        "id": "jbel_ZF69BOS",
        "colab_type": "code",
        "colab": {
          "base_uri": "https://localhost:8080/",
          "height": 636
        },
        "outputId": "053aabf0-ba9a-4e42-f3c1-620aad0a129c"
      },
      "source": [
        "pd.crosstab(finance_df['Has a Bank account'], finance_df['The relathip with head']).plot(kind='bar', stacked=True, figsize=(12,10))"
      ],
      "execution_count": 48,
      "outputs": [
        {
          "output_type": "execute_result",
          "data": {
            "text/plain": [
              "<matplotlib.axes._subplots.AxesSubplot at 0x7f6b3dd30a90>"
            ]
          },
          "metadata": {
            "tags": []
          },
          "execution_count": 48
        },
        {
          "output_type": "display_data",
          "data": {
            "image/png": "[encoded data removed]",
            "text/plain": [
              "<Figure size 864x720 with 1 Axes>"
            ]
          },
          "metadata": {
            "tags": [],
            "needs_background": "light"
          }
        }
      ]
    },
    {
      "cell_type": "markdown",
      "metadata": {
        "id": "gTea5_Wm-cLK",
        "colab_type": "text"
      },
      "source": [
        "Majority of respondents with a bank account as well as without a bank account are heads of hoseholds"
      ]
    },
    {
      "cell_type": "code",
      "metadata": {
        "id": "m46oNHHR2kqJ",
        "colab_type": "code",
        "colab": {
          "base_uri": "https://localhost:8080/",
          "height": 636
        },
        "outputId": "58202dc6-7206-41b5-c443-d2703eb9e033"
      },
      "source": [
        "pd.crosstab(finance_df['Has a Bank account'], finance_df['Cell Phone Access']).plot(kind='bar', stacked=True, figsize=(12,10))"
      ],
      "execution_count": 87,
      "outputs": [
        {
          "output_type": "execute_result",
          "data": {
            "text/plain": [
              "<matplotlib.axes._subplots.AxesSubplot at 0x7f6b2fa23978>"
            ]
          },
          "metadata": {
            "tags": []
          },
          "execution_count": 87
        },
        {
          "output_type": "display_data",
          "data": {
            "image/png": "[encoded data removed]",
            "text/plain": [
              "<Figure size 864x720 with 1 Axes>"
            ]
          },
          "metadata": {
            "tags": [],
            "needs_background": "light"
          }
        }
      ]
    },
    {
      "cell_type": "markdown",
      "metadata": {
        "id": "DIAaDudN2zbJ",
        "colab_type": "text"
      },
      "source": [
        "A large percentage (nearly the whole population) of respondents with bank accounts have cell phone access."
      ]
    },
    {
      "cell_type": "code",
      "metadata": {
        "id": "W7qM9V5SBtZW",
        "colab_type": "code",
        "colab": {
          "base_uri": "https://localhost:8080/",
          "height": 636
        },
        "outputId": "474df6c2-421d-4f02-b79d-a701cac7e115"
      },
      "source": [
        "pd.crosstab(finance_df['Has a Bank account'], finance_df['country']).plot(kind='bar', stacked=True, figsize=(12,10))"
      ],
      "execution_count": 49,
      "outputs": [
        {
          "output_type": "execute_result",
          "data": {
            "text/plain": [
              "<matplotlib.axes._subplots.AxesSubplot at 0x7f6b3dc55a20>"
            ]
          },
          "metadata": {
            "tags": []
          },
          "execution_count": 49
        },
        {
          "output_type": "display_data",
          "data": {
            "image/png": "[encoded data removed]",
            "text/plain": [
              "<Figure size 864x720 with 1 Axes>"
            ]
          },
          "metadata": {
            "tags": [],
            "needs_background": "light"
          }
        }
      ]
    },
    {
      "cell_type": "markdown",
      "metadata": {
        "id": "TSSe9KD9B9Ox",
        "colab_type": "text"
      },
      "source": [
        "The largest number of respondents with bank accounts are from Kenya, followed by those from Rwanda "
      ]
    },
    {
      "cell_type": "markdown",
      "metadata": {
        "id": "fKzMfzDIAf3N",
        "colab_type": "text"
      },
      "source": [
        "### Multivariate Analysis"
      ]
    },
    {
      "cell_type": "code",
      "metadata": {
        "id": "AvliX7rDlebn",
        "colab_type": "code",
        "colab": {
          "base_uri": "https://localhost:8080/",
          "height": 1000
        },
        "outputId": "64d179d9-b9e6-4b29-bdc0-54b868937cee"
      },
      "source": [
        "# Investigate relationship between country, level of education and bank account status\n",
        "country_edu = pd.crosstab(index=[finance_df['Has a Bank account'],finance_df['country']], columns=finance_df['Level of Educuation'])\n",
        "\n",
        "country_edu.loc[('No', slice(None)),:].plot(kind='bar', figsize=(12,10))\n",
        "plt.xticks([0,1,2,3], labels=['Kenya','Rwanda','Tanzania','Uganda'], rotation=0)\n",
        "plt.xlabel('Education distribution per country')\n",
        "plt.title('Respondents with no bank accounts')\n",
        "\n",
        "country_edu.loc[('Yes', slice(None)),:].plot(kind='bar', figsize=(12,10))\n",
        "plt.xticks([0,1,2,3], labels=['Kenya','Rwanda','Tanzania','Uganda'], rotation=0)\n",
        "plt.xlabel('Education distribution per country')\n",
        "plt.title('Respondents with bank accounts')"
      ],
      "execution_count": 80,
      "outputs": [
        {
          "output_type": "execute_result",
          "data": {
            "text/plain": [
              "Text(0.5, 1.0, 'Respondents with bank accounts')"
            ]
          },
          "metadata": {
            "tags": []
          },
          "execution_count": 80
        },
        {
          "output_type": "display_data",
          "data": {
            "image/png": "[encoded data removed]",
            "text/plain": [
              "<Figure size 864x720 with 1 Axes>"
            ]
          },
          "metadata": {
            "tags": [],
            "needs_background": "light"
          }
        },
        {
          "output_type": "display_data",
          "data": {
            "image/png": "[encoded data removed]",
            "text/plain": [
              "<Figure size 864x720 with 1 Axes>"
            ]
          },
          "metadata": {
            "tags": [],
            "needs_background": "light"
          }
        }
      ]
    },
    {
      "cell_type": "markdown",
      "metadata": {
        "id": "w-Us14l9u3Sl",
        "colab_type": "text"
      },
      "source": [
        "For each country, the level of education with the highest number of respondents with bank accounts:\n",
        "- Kenya : Secondary Education\n",
        "- Rwanda : Primary education\n",
        "- Tanzania : Primary/Tertiary Education\n",
        "- Uganda : Secondary education\n",
        "\n",
        "In all countries, the level of education with the highest number of respondents with no bank accounts is primary education."
      ]
    },
    {
      "cell_type": "code",
      "metadata": {
        "id": "00TcG-BGw2pd",
        "colab_type": "code",
        "colab": {
          "base_uri": "https://localhost:8080/",
          "height": 1000
        },
        "outputId": "697e5ef8-06ad-4a49-80eb-6840b4909763"
      },
      "source": [
        "# Investigate relationship between gender, type of jon and bank account status\n",
        "gender_job = pd.crosstab(index=[finance_df['Has a Bank account'],finance_df['gender_of_respondent']], columns=finance_df['Type of Job'])\n",
        "\n",
        "gender_job.loc[('No', slice(None)),:].plot(kind='bar', figsize=(12,10))\n",
        "plt.xticks([0,1], labels=['Female', 'Male'], rotation=0)\n",
        "plt.xlabel('Job type distribution per gender')\n",
        "plt.title('Respondents with no bank accounts')\n",
        "plt.legend(loc='upper right')\n",
        "\n",
        "gender_job.loc[('Yes', slice(None)),:].plot(kind='bar', figsize=(12,10))\n",
        "plt.xticks([0,1], labels=['Female', 'Male'], rotation=0)\n",
        "plt.xlabel('Job type distribution per gender')\n",
        "plt.title('Respondents with bank accounts')\n",
        "plt.legend(loc='upper right')"
      ],
      "execution_count": 85,
      "outputs": [
        {
          "output_type": "execute_result",
          "data": {
            "text/plain": [
              "<matplotlib.legend.Legend at 0x7f6b2fc27470>"
            ]
          },
          "metadata": {
            "tags": []
          },
          "execution_count": 85
        },
        {
          "output_type": "display_data",
          "data": {
            "image/png": "[encoded data removed]",
            "text/plain": [
              "<Figure size 864x720 with 1 Axes>"
            ]
          },
          "metadata": {
            "tags": [],
            "needs_background": "light"
          }
        },
        {
          "output_type": "display_data",
          "data": {
            "image/png": "[encoded data removed]",
            "text/plain": [
              "<Figure size 864x720 with 1 Axes>"
            ]
          },
          "metadata": {
            "tags": [],
            "needs_background": "light"
          }
        }
      ]
    },
    {
      "cell_type": "markdown",
      "metadata": {
        "id": "MtQ1GL-jzu-i",
        "colab_type": "text"
      },
      "source": [
        "For both women and men, the highest propotion of respondents with the following types of jobs have bank accounts:\n",
        "- Self employed\n",
        "- Farming and fishing\n",
        "- Formally employed private\n",
        "- Informally employed"
      ]
    },
    {
      "cell_type": "code",
      "metadata": {
        "id": "3naAnGvfzXS6",
        "colab_type": "code",
        "colab": {
          "base_uri": "https://localhost:8080/",
          "height": 1000
        },
        "outputId": "da454624-d22d-473b-f3d2-7753d0a6c7ba"
      },
      "source": [
        "# Investigate relationship between cell access, location and bank account status\n",
        "loc_cell = pd.crosstab(index=[finance_df['Has a Bank account'],finance_df['Type of Location']], columns=finance_df['Cell Phone Access'])\n",
        "\n",
        "loc_cell.loc[('No', slice(None)),:].plot(kind='bar', figsize=(12,10))\n",
        "plt.xticks([0,1], labels=['Rural','Urban'], rotation=0)\n",
        "plt.xlabel('Cell phone access distribution per location')\n",
        "plt.title('Respondents with no bank accounts')\n",
        "plt.legend(loc='upper right')\n",
        "\n",
        "loc_cell.loc[('Yes', slice(None)),:].plot(kind='bar', figsize=(12,10))\n",
        "plt.xticks([0,1], labels=['Rural','Urban'], rotation=0)\n",
        "plt.xlabel('Cell phone access distribution per location')\n",
        "plt.title('Respondents with bank accounts')\n",
        "plt.legend(loc='upper right')"
      ],
      "execution_count": 86,
      "outputs": [
        {
          "output_type": "execute_result",
          "data": {
            "text/plain": [
              "<matplotlib.legend.Legend at 0x7f6b30399dd8>"
            ]
          },
          "metadata": {
            "tags": []
          },
          "execution_count": 86
        },
        {
          "output_type": "display_data",
          "data": {
            "image/png": "[encoded data removed]",
            "text/plain": [
              "<Figure size 864x720 with 1 Axes>"
            ]
          },
          "metadata": {
            "tags": [],
            "needs_background": "light"
          }
        },
        {
          "output_type": "display_data",
          "data": {
            "image/png": "[encoded data removed]",
            "text/plain": [
              "<Figure size 864x720 with 1 Axes>"
            ]
          },
          "metadata": {
            "tags": [],
            "needs_background": "light"
          }
        }
      ]
    },
    {
      "cell_type": "markdown",
      "metadata": {
        "id": "I_guDgYT2H81",
        "colab_type": "text"
      },
      "source": [
        "Access to a cell phone is relatively the same for individuals with bank accounts regardless on location"
      ]
    },
    {
      "cell_type": "code",
      "metadata": {
        "id": "bSaSdbcg-VS-",
        "colab_type": "code",
        "colab": {}
      },
      "source": [
        "# Encode categorical features\n",
        "feature_df = finance_df.drop('Has a Bank account', axis=1)\n",
        "\n",
        "#Convert year variable to object\n",
        "feature_df['year'] = feature_df['year'].astype('object')\n",
        "\n",
        "feature_df = pd.get_dummies(feature_df, columns=(feature_df.select_dtypes(include='object').columns.to_list()),dtype=np.int64)"
      ],
      "execution_count": 50,
      "outputs": []
    },
    {
      "cell_type": "code",
      "metadata": {
        "id": "4b7-C4aTEp7H",
        "colab_type": "code",
        "colab": {
          "base_uri": "https://localhost:8080/",
          "height": 301
        },
        "outputId": "5ae5ec5a-68d0-432b-aae1-44cbeb8eaeb8"
      },
      "source": [
        "feature_df.head()"
      ],
      "execution_count": 51,
      "outputs": [
        {
          "output_type": "execute_result",
          "data": {
            "text/html": [
              "<div>\n",
              "<style scoped>\n",
              "    .dataframe tbody tr th:only-of-type {\n",
              "        vertical-align: middle;\n",
              "    }\n",
              "\n",
              "    .dataframe tbody tr th {\n",
              "        vertical-align: top;\n",
              "    }\n",
              "\n",
              "    .dataframe thead th {\n",
              "        text-align: right;\n",
              "    }\n",
              "</style>\n",
              "<table border=\"1\" class=\"dataframe\">\n",
              "  <thead>\n",
              "    <tr style=\"text-align: right;\">\n",
              "      <th></th>\n",
              "      <th>household_size</th>\n",
              "      <th>Respondent Age</th>\n",
              "      <th>country_Kenya</th>\n",
              "      <th>country_Rwanda</th>\n",
              "      <th>country_Tanzania</th>\n",
              "      <th>country_Uganda</th>\n",
              "      <th>year_2016</th>\n",
              "      <th>year_2017</th>\n",
              "      <th>year_2018</th>\n",
              "      <th>Type of Location_Rural</th>\n",
              "      <th>Type of Location_Urban</th>\n",
              "      <th>Cell Phone Access_No</th>\n",
              "      <th>Cell Phone Access_Yes</th>\n",
              "      <th>gender_of_respondent_Female</th>\n",
              "      <th>gender_of_respondent_Male</th>\n",
              "      <th>The relathip with head_Child</th>\n",
              "      <th>The relathip with head_Head of Household</th>\n",
              "      <th>The relathip with head_Other non-relatives</th>\n",
              "      <th>The relathip with head_Other relative</th>\n",
              "      <th>The relathip with head_Parent</th>\n",
              "      <th>The relathip with head_Spouse</th>\n",
              "      <th>marital_status_Divorced/Seperated</th>\n",
              "      <th>marital_status_Dont know</th>\n",
              "      <th>marital_status_Married/Living together</th>\n",
              "      <th>marital_status_Single/Never Married</th>\n",
              "      <th>marital_status_Widowed</th>\n",
              "      <th>Level of Educuation_No formal education</th>\n",
              "      <th>Level of Educuation_Other/Dont know/RTA</th>\n",
              "      <th>Level of Educuation_Primary education</th>\n",
              "      <th>Level of Educuation_Secondary education</th>\n",
              "      <th>Level of Educuation_Tertiary education</th>\n",
              "      <th>Level of Educuation_Vocational/Specialised training</th>\n",
              "      <th>Type of Job_Dont Know/Refuse to answer</th>\n",
              "      <th>Type of Job_Farming and Fishing</th>\n",
              "      <th>Type of Job_Formally employed Government</th>\n",
              "      <th>Type of Job_Formally employed Private</th>\n",
              "      <th>Type of Job_Government Dependent</th>\n",
              "      <th>Type of Job_Informally employed</th>\n",
              "      <th>Type of Job_No Income</th>\n",
              "      <th>Type of Job_Other Income</th>\n",
              "      <th>Type of Job_Remittance Dependent</th>\n",
              "      <th>Type of Job_Self employed</th>\n",
              "    </tr>\n",
              "  </thead>\n",
              "  <tbody>\n",
              "    <tr>\n",
              "      <th>0</th>\n",
              "      <td>3.0</td>\n",
              "      <td>24.0</td>\n",
              "      <td>1</td>\n",
              "      <td>0</td>\n",
              "      <td>0</td>\n",
              "      <td>0</td>\n",
              "      <td>0</td>\n",
              "      <td>0</td>\n",
              "      <td>1</td>\n",
              "      <td>1</td>\n",
              "      <td>0</td>\n",
              "      <td>0</td>\n",
              "      <td>1</td>\n",
              "      <td>1</td>\n",
              "      <td>0</td>\n",
              "      <td>0</td>\n",
              "      <td>0</td>\n",
              "      <td>0</td>\n",
              "      <td>0</td>\n",
              "      <td>0</td>\n",
              "      <td>1</td>\n",
              "      <td>0</td>\n",
              "      <td>0</td>\n",
              "      <td>1</td>\n",
              "      <td>0</td>\n",
              "      <td>0</td>\n",
              "      <td>0</td>\n",
              "      <td>0</td>\n",
              "      <td>0</td>\n",
              "      <td>1</td>\n",
              "      <td>0</td>\n",
              "      <td>0</td>\n",
              "      <td>0</td>\n",
              "      <td>0</td>\n",
              "      <td>0</td>\n",
              "      <td>0</td>\n",
              "      <td>0</td>\n",
              "      <td>0</td>\n",
              "      <td>0</td>\n",
              "      <td>0</td>\n",
              "      <td>0</td>\n",
              "      <td>1</td>\n",
              "    </tr>\n",
              "    <tr>\n",
              "      <th>1</th>\n",
              "      <td>5.0</td>\n",
              "      <td>70.0</td>\n",
              "      <td>1</td>\n",
              "      <td>0</td>\n",
              "      <td>0</td>\n",
              "      <td>0</td>\n",
              "      <td>0</td>\n",
              "      <td>0</td>\n",
              "      <td>1</td>\n",
              "      <td>1</td>\n",
              "      <td>0</td>\n",
              "      <td>1</td>\n",
              "      <td>0</td>\n",
              "      <td>1</td>\n",
              "      <td>0</td>\n",
              "      <td>0</td>\n",
              "      <td>1</td>\n",
              "      <td>0</td>\n",
              "      <td>0</td>\n",
              "      <td>0</td>\n",
              "      <td>0</td>\n",
              "      <td>0</td>\n",
              "      <td>0</td>\n",
              "      <td>0</td>\n",
              "      <td>0</td>\n",
              "      <td>1</td>\n",
              "      <td>1</td>\n",
              "      <td>0</td>\n",
              "      <td>0</td>\n",
              "      <td>0</td>\n",
              "      <td>0</td>\n",
              "      <td>0</td>\n",
              "      <td>0</td>\n",
              "      <td>0</td>\n",
              "      <td>0</td>\n",
              "      <td>0</td>\n",
              "      <td>1</td>\n",
              "      <td>0</td>\n",
              "      <td>0</td>\n",
              "      <td>0</td>\n",
              "      <td>0</td>\n",
              "      <td>0</td>\n",
              "    </tr>\n",
              "    <tr>\n",
              "      <th>2</th>\n",
              "      <td>5.0</td>\n",
              "      <td>26.0</td>\n",
              "      <td>1</td>\n",
              "      <td>0</td>\n",
              "      <td>0</td>\n",
              "      <td>0</td>\n",
              "      <td>0</td>\n",
              "      <td>0</td>\n",
              "      <td>1</td>\n",
              "      <td>0</td>\n",
              "      <td>1</td>\n",
              "      <td>0</td>\n",
              "      <td>1</td>\n",
              "      <td>0</td>\n",
              "      <td>1</td>\n",
              "      <td>0</td>\n",
              "      <td>0</td>\n",
              "      <td>0</td>\n",
              "      <td>1</td>\n",
              "      <td>0</td>\n",
              "      <td>0</td>\n",
              "      <td>0</td>\n",
              "      <td>0</td>\n",
              "      <td>0</td>\n",
              "      <td>1</td>\n",
              "      <td>0</td>\n",
              "      <td>0</td>\n",
              "      <td>0</td>\n",
              "      <td>0</td>\n",
              "      <td>0</td>\n",
              "      <td>0</td>\n",
              "      <td>1</td>\n",
              "      <td>0</td>\n",
              "      <td>0</td>\n",
              "      <td>0</td>\n",
              "      <td>0</td>\n",
              "      <td>0</td>\n",
              "      <td>0</td>\n",
              "      <td>0</td>\n",
              "      <td>0</td>\n",
              "      <td>0</td>\n",
              "      <td>1</td>\n",
              "    </tr>\n",
              "    <tr>\n",
              "      <th>3</th>\n",
              "      <td>5.0</td>\n",
              "      <td>34.0</td>\n",
              "      <td>1</td>\n",
              "      <td>0</td>\n",
              "      <td>0</td>\n",
              "      <td>0</td>\n",
              "      <td>0</td>\n",
              "      <td>0</td>\n",
              "      <td>1</td>\n",
              "      <td>1</td>\n",
              "      <td>0</td>\n",
              "      <td>0</td>\n",
              "      <td>1</td>\n",
              "      <td>1</td>\n",
              "      <td>0</td>\n",
              "      <td>0</td>\n",
              "      <td>1</td>\n",
              "      <td>0</td>\n",
              "      <td>0</td>\n",
              "      <td>0</td>\n",
              "      <td>0</td>\n",
              "      <td>0</td>\n",
              "      <td>0</td>\n",
              "      <td>1</td>\n",
              "      <td>0</td>\n",
              "      <td>0</td>\n",
              "      <td>0</td>\n",
              "      <td>0</td>\n",
              "      <td>1</td>\n",
              "      <td>0</td>\n",
              "      <td>0</td>\n",
              "      <td>0</td>\n",
              "      <td>0</td>\n",
              "      <td>0</td>\n",
              "      <td>0</td>\n",
              "      <td>1</td>\n",
              "      <td>0</td>\n",
              "      <td>0</td>\n",
              "      <td>0</td>\n",
              "      <td>0</td>\n",
              "      <td>0</td>\n",
              "      <td>0</td>\n",
              "    </tr>\n",
              "    <tr>\n",
              "      <th>4</th>\n",
              "      <td>8.0</td>\n",
              "      <td>26.0</td>\n",
              "      <td>1</td>\n",
              "      <td>0</td>\n",
              "      <td>0</td>\n",
              "      <td>0</td>\n",
              "      <td>0</td>\n",
              "      <td>0</td>\n",
              "      <td>1</td>\n",
              "      <td>0</td>\n",
              "      <td>1</td>\n",
              "      <td>1</td>\n",
              "      <td>0</td>\n",
              "      <td>0</td>\n",
              "      <td>1</td>\n",
              "      <td>1</td>\n",
              "      <td>0</td>\n",
              "      <td>0</td>\n",
              "      <td>0</td>\n",
              "      <td>0</td>\n",
              "      <td>0</td>\n",
              "      <td>0</td>\n",
              "      <td>0</td>\n",
              "      <td>0</td>\n",
              "      <td>1</td>\n",
              "      <td>0</td>\n",
              "      <td>0</td>\n",
              "      <td>0</td>\n",
              "      <td>1</td>\n",
              "      <td>0</td>\n",
              "      <td>0</td>\n",
              "      <td>0</td>\n",
              "      <td>0</td>\n",
              "      <td>0</td>\n",
              "      <td>0</td>\n",
              "      <td>0</td>\n",
              "      <td>0</td>\n",
              "      <td>1</td>\n",
              "      <td>0</td>\n",
              "      <td>0</td>\n",
              "      <td>0</td>\n",
              "      <td>0</td>\n",
              "    </tr>\n",
              "  </tbody>\n",
              "</table>\n",
              "</div>"
            ],
            "text/plain": [
              "   household_size  ...  Type of Job_Self employed\n",
              "0             3.0  ...                          1\n",
              "1             5.0  ...                          0\n",
              "2             5.0  ...                          1\n",
              "3             5.0  ...                          0\n",
              "4             8.0  ...                          0\n",
              "\n",
              "[5 rows x 42 columns]"
            ]
          },
          "metadata": {
            "tags": []
          },
          "execution_count": 51
        }
      ]
    },
    {
      "cell_type": "code",
      "metadata": {
        "id": "WnGf02ExLoA1",
        "colab_type": "code",
        "colab": {
          "base_uri": "https://localhost:8080/",
          "height": 212
        },
        "outputId": "bccd535c-512d-45a0-88c6-b194bb6c66fe"
      },
      "source": [
        "from sklearn.preprocessing import LabelBinarizer\n",
        "Y = finance_df['Has a Bank account']\n",
        "print(Y.head())\n",
        "Y = LabelBinarizer().fit_transform(Y)\n",
        "print(Y[:5])"
      ],
      "execution_count": 52,
      "outputs": [
        {
          "output_type": "stream",
          "text": [
            "0    Yes\n",
            "1     No\n",
            "2    Yes\n",
            "3     No\n",
            "4     No\n",
            "Name: Has a Bank account, dtype: object\n",
            "[[1]\n",
            " [0]\n",
            " [1]\n",
            " [0]\n",
            " [0]]\n"
          ],
          "name": "stdout"
        }
      ]
    },
    {
      "cell_type": "code",
      "metadata": {
        "id": "cc_lJmaMC4HU",
        "colab_type": "code",
        "colab": {}
      },
      "source": [
        "# Scale numerical features\n",
        "from sklearn.preprocessing import StandardScaler\n",
        "num_features = feature_df[['household_size','Respondent Age']]\n",
        "\n",
        "scaler = StandardScaler().fit(num_features)"
      ],
      "execution_count": 53,
      "outputs": []
    },
    {
      "cell_type": "code",
      "metadata": {
        "id": "Iw4KlFv8EYhH",
        "colab_type": "code",
        "colab": {}
      },
      "source": [
        "# Split data into test and train sets, set test set to 30% of total data\n",
        "from sklearn.model_selection import train_test_split as tts\n",
        "x_train, x_test, y_train, y_test = tts(feature_df, Y, test_size=.3, random_state=42)"
      ],
      "execution_count": 54,
      "outputs": []
    },
    {
      "cell_type": "code",
      "metadata": {
        "id": "_aV0zm_uMeyo",
        "colab_type": "code",
        "colab": {}
      },
      "source": [
        "scaled_x_train = scaler.transform(x_train[['household_size','Respondent Age']])\n",
        "scaled_x_test = scaler.transform(x_test[['household_size','Respondent Age']])"
      ],
      "execution_count": 55,
      "outputs": []
    },
    {
      "cell_type": "code",
      "metadata": {
        "id": "8Dv-XYUAM0vv",
        "colab_type": "code",
        "colab": {}
      },
      "source": [
        "x_train = np.concatenate((scaled_x_train, x_train.iloc[:, 2:]), axis=1)\n",
        "x_test = np.concatenate((scaled_x_test, x_test.iloc[:, 2:]), axis=1)"
      ],
      "execution_count": 56,
      "outputs": []
    },
    {
      "cell_type": "markdown",
      "metadata": {
        "id": "bcFTd5-TPug3",
        "colab_type": "text"
      },
      "source": [
        "#### Principal Component Features\n"
      ]
    },
    {
      "cell_type": "code",
      "metadata": {
        "id": "GR1WvXFtOW-T",
        "colab_type": "code",
        "colab": {
          "base_uri": "https://localhost:8080/",
          "height": 502
        },
        "outputId": "5be58541-8674-479f-af85-eff65bc23062"
      },
      "source": [
        "from sklearn.decomposition import PCA\n",
        "pca = PCA(random_state=0)\n",
        "pca.fit(x_train)\n",
        "\n",
        "# getting the explained variance ratio\n",
        "evr = pca.explained_variance_ratio_\n",
        "range_length = len(evr) + 1\n",
        "\n",
        "# plotting the explained variance ratio so we can determine how any principal components to keep\n",
        "plt.figure(figsize = (10, 8))\n",
        "plt.plot(__builtin__.range(1, range_length), evr.cumsum(), marker = 'x', linestyle = '--')\n",
        "plt.xlabel(\"Number of Components\")\n",
        "plt.ylabel(\"Cumulative Explained Variance\")\n",
        "plt.grid(True)\n",
        "plt.show()"
      ],
      "execution_count": 57,
      "outputs": [
        {
          "output_type": "display_data",
          "data": {
            "image/png": "[encoded data removed]",
            "text/plain": [
              "<Figure size 720x576 with 1 Axes>"
            ]
          },
          "metadata": {
            "tags": [],
            "needs_background": "light"
          }
        }
      ]
    },
    {
      "cell_type": "markdown",
      "metadata": {
        "id": "AKn-qGGKP_sC",
        "colab_type": "text"
      },
      "source": [
        "10 components explain over 80% of the variance in our dataset"
      ]
    },
    {
      "cell_type": "markdown",
      "metadata": {
        "id": "LmTQcNHPfu9G",
        "colab_type": "text"
      },
      "source": [
        "### Summary of Findings\n",
        "\n",
        "The proportion of individuals with no bank accounts is extremely high in comparison to those with that have a bank account. 85% of all respondents have no bank accounts.\n",
        "\n",
        "The categorical demographic factors such as gender, job type, location as well as accesss to a cellphone having a significant impact on whether an individual has an account or not.\n",
        "\n",
        "Dimension reduction with PCA recommends 10 components. This would be extremely helpful as the data is highly categorical."
      ]
    },
    {
      "cell_type": "markdown",
      "metadata": {
        "id": "IRsvfc4ZjN-H",
        "colab_type": "text"
      },
      "source": [
        "### Challenging the solution\n",
        "\n",
        "To provide further insight on relationships between features:\n",
        "\n",
        " - Perform further multivariate analysis among features\n",
        " - ANOVA analysis"
      ]
    },
    {
      "cell_type": "code",
      "metadata": {
        "id": "a3kCO1w1Vm5m",
        "colab_type": "code",
        "colab": {}
      },
      "source": [
        ""
      ],
      "execution_count": 57,
      "outputs": []
    }
  ]
}